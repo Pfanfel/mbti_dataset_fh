{
 "cells": [
  {
   "cell_type": "code",
   "execution_count": 2,
   "metadata": {
    "id": "ezmnJ_MEco7S"
   },
   "outputs": [],
   "source": [
    "import itertools\n",
    "import string\n",
    "import numpy as np\n",
    "import pandas as pd\n",
    "import matplotlib.pyplot as plt\n",
    "import seaborn as sns\n",
    "import re"
   ]
  },
  {
   "cell_type": "code",
   "execution_count": 3,
   "metadata": {
    "id": "s0b6YMmrdDha"
   },
   "outputs": [
    {
     "name": "stdout",
     "output_type": "stream",
     "text": [
      "<class 'pandas.core.frame.DataFrame'>\n",
      "RangeIndex: 8675 entries, 0 to 8674\n",
      "Data columns (total 2 columns):\n",
      " #   Column  Non-Null Count  Dtype \n",
      "---  ------  --------------  ----- \n",
      " 0   type    8675 non-null   object\n",
      " 1   posts   8675 non-null   object\n",
      "dtypes: object(2)\n",
      "memory usage: 135.7+ KB\n"
     ]
    }
   ],
   "source": [
    "# Importing dataset is stored locally\n",
    "df=pd.read_csv('mbti_1.csv', dtype={'type': str, 'posts': str})\n",
    "df.info()\n",
    "# Für spätere visualisierung\n",
    "mbti = {'I':'Introversion', 'E':'Extroversion', 'N':'Intuition',\n",
    "        'S':'Sensing', 'T':'Thinking', 'F': 'Feeling',\n",
    "        'J':'Judging', 'P': 'Perceiving'}\n",
    "\n",
    "#TODO: Raus, nur drin um erstmal Zeit zu sparen\n",
    "df = df.head(200)"
   ]
  },
  {
   "cell_type": "code",
   "execution_count": 4,
   "metadata": {
    "id": "JXsq-hHxdFzP"
   },
   "outputs": [
    {
     "data": {
      "image/png": "[encoded data removed]",
      "text/plain": [
       "<Figure size 864x288 with 1 Axes>"
      ]
     },
     "metadata": {
      "needs_background": "light"
     },
     "output_type": "display_data"
    }
   ],
   "source": [
    "#Anzahl der verschiedenen Typen zählen\n",
    "df_counted = df['type'].value_counts()\n",
    "df_counted.head()\n",
    "\n",
    "plt.figure(figsize=(12,4))\n",
    "sns.barplot(x = df_counted.index, y = df_counted.values)\n",
    "plt.ylabel('Number of Occurrences', fontsize=12)\n",
    "plt.xlabel('Types', fontsize=12)\n",
    "plt.show()"
   ]
  },
  {
   "cell_type": "markdown",
   "metadata": {},
   "source": [
    "# Vorverarbeitung\n",
    "\n",
    "- ' Am anfang und Ende des Strings entfernen\n",
    "- Nach ||| in eine Liste an Posts Splitten\n",
    "- lowercase\n",
    "- Links zählen und entfernen **IDEE:** Statt links zu entfernen diese mit einem eindeutigen Keyword ersetzen sowas wie <link>\n",
    "- Abkürzungen auflösen\n",
    "- Satzzeichen entfernen\n",
    "- Mehrere vorkommen von einem Buchstaben in einem Wort zusammenfassen auf zwei vorkomnisse (loooove -> loove)\n",
    "- Zahlen und Wörter mit Zahlen entfernen\n",
    "- MBTI Kennzeichungen entfernen, da diese in diesem Datensatz sehr häufig vertreten\n",
    "- Überflüssige Leerzeichen entfernt\n",
    "- Leere Listenelemente entfernt, da einige Posts nur aus Links bestanten, welche gelöscht wurden"
   ]
  },
  {
   "cell_type": "code",
   "execution_count": 5,
   "metadata": {
    "jupyter": {
     "outputs_hidden": false
    },
    "pycharm": {
     "name": "#%%\n"
    }
   },
   "outputs": [],
   "source": [
    "def dequote(s):\n",
    "    \"\"\"\n",
    "    If a string has single or double quotes around it, remove them.\n",
    "    Make sure the pair of quotes match.\n",
    "    If a matching pair of quotes is not found, return the string unchanged.\n",
    "    \"\"\"\n",
    "    if (s[0] == s[-1]) and s.startswith((\"'\", '\"')):\n",
    "        return s[1:-1]\n",
    "    return s\n",
    "\n",
    "#Anführungszeichen entfernen vorne und hinten\n",
    "df['posts_processed_dequote'] = df['posts'].apply(dequote)"
   ]
  },
  {
   "cell_type": "code",
   "execution_count": 6,
   "metadata": {
    "id": "mRhd7AVsnZ9t"
   },
   "outputs": [
    {
     "name": "stdout",
     "output_type": "stream",
     "text": [
      "||| Split\n"
     ]
    },
    {
     "data": {
      "text/html": [
       "<div>\n",
       "<style scoped>\n",
       "    .dataframe tbody tr th:only-of-type {\n",
       "        vertical-align: middle;\n",
       "    }\n",
       "\n",
       "    .dataframe tbody tr th {\n",
       "        vertical-align: top;\n",
       "    }\n",
       "\n",
       "    .dataframe thead th {\n",
       "        text-align: right;\n",
       "    }\n",
       "</style>\n",
       "<table border=\"1\" class=\"dataframe\">\n",
       "  <thead>\n",
       "    <tr style=\"text-align: right;\">\n",
       "      <th></th>\n",
       "      <th>type</th>\n",
       "      <th>posts</th>\n",
       "      <th>posts_processed_dequote</th>\n",
       "      <th>posts_processed_dequote_split</th>\n",
       "    </tr>\n",
       "  </thead>\n",
       "  <tbody>\n",
       "    <tr>\n",
       "      <th>0</th>\n",
       "      <td>INFJ</td>\n",
       "      <td>'http://www.youtube.com/watch?v=qsXHcwe3krw|||...</td>\n",
       "      <td>http://www.youtube.com/watch?v=qsXHcwe3krw|||h...</td>\n",
       "      <td>[http://www.youtube.com/watch?v=qsXHcwe3krw, h...</td>\n",
       "    </tr>\n",
       "    <tr>\n",
       "      <th>1</th>\n",
       "      <td>ENTP</td>\n",
       "      <td>'I'm finding the lack of me in these posts ver...</td>\n",
       "      <td>I'm finding the lack of me in these posts very...</td>\n",
       "      <td>[I'm finding the lack of me in these posts ver...</td>\n",
       "    </tr>\n",
       "    <tr>\n",
       "      <th>2</th>\n",
       "      <td>INTP</td>\n",
       "      <td>'Good one  _____   https://www.youtube.com/wat...</td>\n",
       "      <td>Good one  _____   https://www.youtube.com/watc...</td>\n",
       "      <td>[Good one  _____   https://www.youtube.com/wat...</td>\n",
       "    </tr>\n",
       "    <tr>\n",
       "      <th>3</th>\n",
       "      <td>INTJ</td>\n",
       "      <td>'Dear INTP,   I enjoyed our conversation the o...</td>\n",
       "      <td>Dear INTP,   I enjoyed our conversation the ot...</td>\n",
       "      <td>[Dear INTP,   I enjoyed our conversation the o...</td>\n",
       "    </tr>\n",
       "    <tr>\n",
       "      <th>4</th>\n",
       "      <td>ENTJ</td>\n",
       "      <td>'You're fired.|||That's another silly misconce...</td>\n",
       "      <td>You're fired.|||That's another silly misconcep...</td>\n",
       "      <td>[You're fired., That's another silly misconcep...</td>\n",
       "    </tr>\n",
       "  </tbody>\n",
       "</table>\n",
       "</div>"
      ],
      "text/plain": [
       "   type                                              posts  \\\n",
       "0  INFJ  'http://www.youtube.com/watch?v=qsXHcwe3krw|||...   \n",
       "1  ENTP  'I'm finding the lack of me in these posts ver...   \n",
       "2  INTP  'Good one  _____   https://www.youtube.com/wat...   \n",
       "3  INTJ  'Dear INTP,   I enjoyed our conversation the o...   \n",
       "4  ENTJ  'You're fired.|||That's another silly misconce...   \n",
       "\n",
       "                             posts_processed_dequote  \\\n",
       "0  http://www.youtube.com/watch?v=qsXHcwe3krw|||h...   \n",
       "1  I'm finding the lack of me in these posts very...   \n",
       "2  Good one  _____   https://www.youtube.com/watc...   \n",
       "3  Dear INTP,   I enjoyed our conversation the ot...   \n",
       "4  You're fired.|||That's another silly misconcep...   \n",
       "\n",
       "                       posts_processed_dequote_split  \n",
       "0  [http://www.youtube.com/watch?v=qsXHcwe3krw, h...  \n",
       "1  [I'm finding the lack of me in these posts ver...  \n",
       "2  [Good one  _____   https://www.youtube.com/wat...  \n",
       "3  [Dear INTP,   I enjoyed our conversation the o...  \n",
       "4  [You're fired., That's another silly misconcep...  "
      ]
     },
     "execution_count": 6,
     "metadata": {},
     "output_type": "execute_result"
    }
   ],
   "source": [
    "#Split an ||| \n",
    "df['posts_processed_dequote_split']=df['posts_processed_dequote'].apply(lambda x: x.split('|||'))\n",
    "print('||| Split')\n",
    "df.head()"
   ]
  },
  {
   "cell_type": "code",
   "execution_count": 7,
   "metadata": {
    "id": "FqSEGIwTstGK"
   },
   "outputs": [
    {
     "name": "stdout",
     "output_type": "stream",
     "text": [
      "lowercase\n",
      "Vergleich\n",
      "['http://www.youtube.com/watch?v=qsXHcwe3krw', 'http://41.media.tumblr.com/tumblr_lfouy03PMA1qa1rooo1_500.jpg', 'enfp and intj moments  https://www.youtube.com/watch?v=iz7lE1g4XM4  sportscenter not top ten plays  https://www.youtube.com/watch?v=uCdfze1etec  pranks', 'What has been the most life-changing experience in your life?', 'http://www.youtube.com/watch?v=vXZeYwwRDw8   http://www.youtube.com/watch?v=u8ejam5DP3E  On repeat for most of today.', 'May the PerC Experience immerse you.', 'The last thing my INFJ friend posted on his facebook before committing suicide the next day. Rest in peace~   http://vimeo.com/22842206', \"Hello ENFJ7. Sorry to hear of your distress. It's only natural for a relationship to not be perfection all the time in every moment of existence. Try to figure the hard times as times of growth, as...\", '84389  84390  http://wallpaperpassion.com/upload/23700/friendship-boy-and-girl-wallpaper.jpg  http://assets.dornob.com/wp-content/uploads/2010/04/round-home-design.jpg ...', 'Welcome and stuff.', 'http://playeressence.com/wp-content/uploads/2013/08/RED-red-the-pokemon-master-32560474-450-338.jpg  Game. Set. Match.', \"Prozac, wellbrutin, at least thirty minutes of moving your legs (and I don't mean moving them while sitting in your same desk chair), weed in moderation (maybe try edibles as a healthier alternative...\", \"Basically come up with three items you've determined that each type (or whichever types you want to do) would more than likely use, given each types' cognitive functions and whatnot, when left by...\", 'All things in moderation.  Sims is indeed a video game, and a good one at that. Note: a good one at that is somewhat subjective in that I am not completely promoting the death of any given Sim...', 'Dear ENFP:  What were your favorite video games growing up and what are your now, current favorite video games? :cool:', 'https://www.youtube.com/watch?v=QyPqT8umzmY', 'It appears to be too late. :sad:', \"There's someone out there for everyone.\", 'Wait... I thought confidence was a good thing.', \"I just cherish the time of solitude b/c i revel within my inner world more whereas most other time i'd be workin... just enjoy the me time while you can. Don't worry, people will always be around to...\", \"Yo entp ladies... if you're into a complimentary personality,well, hey.\", '... when your main social outlet is xbox live conversations and even then you verbally fatigue quickly.', 'http://www.youtube.com/watch?v=gDhy7rdfm14  I really dig the part from 1:46 to 2:50', 'http://www.youtube.com/watch?v=msqXffgh7b8', 'Banned because this thread requires it of me.', 'Get high in backyard, roast and eat marshmellows in backyard while conversing over something intellectual, followed by massages and kisses.', 'http://www.youtube.com/watch?v=Mw7eoU3BMbE', 'http://www.youtube.com/watch?v=4V2uYORhQOk', 'http://www.youtube.com/watch?v=SlVmgFQQ0TI', \"Banned for too many b's in that sentence. How could you! Think of the B!\", 'Banned for watching movies in the corner with the dunces.', 'Banned because Health class clearly taught you nothing about peer pressure.', 'Banned for a whole host of reasons!', 'http://www.youtube.com/watch?v=IRcrv41hgz4', \"1) Two baby deer on left and right munching on a beetle in the middle.  2) Using their own blood, two cavemen diary today's latest happenings on their designated cave diary wall.  3) I see it as...\", 'a pokemon world  an infj society  everyone becomes an optimist', '49142', 'http://www.youtube.com/watch?v=ZRCEq_JFeFM', 'http://discovermagazine.com/2012/jul-aug/20-things-you-didnt-know-about-deserts/desert.jpg', 'http://oyster.ignimgs.com/mediawiki/apis.ign.com/pokemon-silver-version/d/dd/Ditto.gif', 'http://www.serebii.net/potw-dp/Scizor.jpg', \"Not all artists are artists because they draw. It's the idea that counts in forming something of your own... like a signature.\", \"Welcome to the robot ranks, person who downed my self-esteem cuz I'm not an avid signature artist like herself. :proud:\", 'Banned for taking all the room under my bed. Ya gotta learn to share with the roaches.', 'http://www.youtube.com/watch?v=w8IgImn57aQ', 'Banned for being too much of a thundering, grumbling kind of storm... yep.', \"Ahh... old high school music I haven't heard in ages.   http://www.youtube.com/watch?v=dcCRUPCdB1w\", \"I failed a public speaking class a few years ago and I've sort of learned what I could do better were I to be in that position again. A big part of my failure was just overloading myself with too...\", \"I like this person's mentality. He's a confirmed INTJ by the way. http://www.youtube.com/watch?v=hGKLI-GEc6M\", 'Move to the Denver area and start a new life for myself.']\n",
      "['http://www.youtube.com/watch?v=qsxhcwe3krw', 'http://41.media.tumblr.com/tumblr_lfouy03pma1qa1rooo1_500.jpg', 'enfp and intj moments  https://www.youtube.com/watch?v=iz7le1g4xm4  sportscenter not top ten plays  https://www.youtube.com/watch?v=ucdfze1etec  pranks', 'what has been the most life-changing experience in your life?', 'http://www.youtube.com/watch?v=vxzeywwrdw8   http://www.youtube.com/watch?v=u8ejam5dp3e  on repeat for most of today.', 'may the perc experience immerse you.', 'the last thing my infj friend posted on his facebook before committing suicide the next day. rest in peace~   http://vimeo.com/22842206', \"hello enfj7. sorry to hear of your distress. it's only natural for a relationship to not be perfection all the time in every moment of existence. try to figure the hard times as times of growth, as...\", '84389  84390  http://wallpaperpassion.com/upload/23700/friendship-boy-and-girl-wallpaper.jpg  http://assets.dornob.com/wp-content/uploads/2010/04/round-home-design.jpg ...', 'welcome and stuff.', 'http://playeressence.com/wp-content/uploads/2013/08/red-red-the-pokemon-master-32560474-450-338.jpg  game. set. match.', \"prozac, wellbrutin, at least thirty minutes of moving your legs (and i don't mean moving them while sitting in your same desk chair), weed in moderation (maybe try edibles as a healthier alternative...\", \"basically come up with three items you've determined that each type (or whichever types you want to do) would more than likely use, given each types' cognitive functions and whatnot, when left by...\", 'all things in moderation.  sims is indeed a video game, and a good one at that. note: a good one at that is somewhat subjective in that i am not completely promoting the death of any given sim...', 'dear enfp:  what were your favorite video games growing up and what are your now, current favorite video games? :cool:', 'https://www.youtube.com/watch?v=qypqt8umzmy', 'it appears to be too late. :sad:', \"there's someone out there for everyone.\", 'wait... i thought confidence was a good thing.', \"i just cherish the time of solitude b/c i revel within my inner world more whereas most other time i'd be workin... just enjoy the me time while you can. don't worry, people will always be around to...\", \"yo entp ladies... if you're into a complimentary personality,well, hey.\", '... when your main social outlet is xbox live conversations and even then you verbally fatigue quickly.', 'http://www.youtube.com/watch?v=gdhy7rdfm14  i really dig the part from 1:46 to 2:50', 'http://www.youtube.com/watch?v=msqxffgh7b8', 'banned because this thread requires it of me.', 'get high in backyard, roast and eat marshmellows in backyard while conversing over something intellectual, followed by massages and kisses.', 'http://www.youtube.com/watch?v=mw7eou3bmbe', 'http://www.youtube.com/watch?v=4v2uyorhqok', 'http://www.youtube.com/watch?v=slvmgfqq0ti', \"banned for too many b's in that sentence. how could you! think of the b!\", 'banned for watching movies in the corner with the dunces.', 'banned because health class clearly taught you nothing about peer pressure.', 'banned for a whole host of reasons!', 'http://www.youtube.com/watch?v=ircrv41hgz4', \"1) two baby deer on left and right munching on a beetle in the middle.  2) using their own blood, two cavemen diary today's latest happenings on their designated cave diary wall.  3) i see it as...\", 'a pokemon world  an infj society  everyone becomes an optimist', '49142', 'http://www.youtube.com/watch?v=zrceq_jfefm', 'http://discovermagazine.com/2012/jul-aug/20-things-you-didnt-know-about-deserts/desert.jpg', 'http://oyster.ignimgs.com/mediawiki/apis.ign.com/pokemon-silver-version/d/dd/ditto.gif', 'http://www.serebii.net/potw-dp/scizor.jpg', \"not all artists are artists because they draw. it's the idea that counts in forming something of your own... like a signature.\", \"welcome to the robot ranks, person who downed my self-esteem cuz i'm not an avid signature artist like herself. :proud:\", 'banned for taking all the room under my bed. ya gotta learn to share with the roaches.', 'http://www.youtube.com/watch?v=w8igimn57aq', 'banned for being too much of a thundering, grumbling kind of storm... yep.', \"ahh... old high school music i haven't heard in ages.   http://www.youtube.com/watch?v=dccrupcdb1w\", \"i failed a public speaking class a few years ago and i've sort of learned what i could do better were i to be in that position again. a big part of my failure was just overloading myself with too...\", \"i like this person's mentality. he's a confirmed intj by the way. http://www.youtube.com/watch?v=hgkli-gec6m\", 'move to the denver area and start a new life for myself.']\n"
     ]
    },
    {
     "data": {
      "text/html": [
       "<div>\n",
       "<style scoped>\n",
       "    .dataframe tbody tr th:only-of-type {\n",
       "        vertical-align: middle;\n",
       "    }\n",
       "\n",
       "    .dataframe tbody tr th {\n",
       "        vertical-align: top;\n",
       "    }\n",
       "\n",
       "    .dataframe thead th {\n",
       "        text-align: right;\n",
       "    }\n",
       "</style>\n",
       "<table border=\"1\" class=\"dataframe\">\n",
       "  <thead>\n",
       "    <tr style=\"text-align: right;\">\n",
       "      <th></th>\n",
       "      <th>type</th>\n",
       "      <th>posts</th>\n",
       "      <th>posts_processed_dequote</th>\n",
       "      <th>posts_processed_dequote_split</th>\n",
       "      <th>posts_processed_dequote_split_lowercase</th>\n",
       "    </tr>\n",
       "  </thead>\n",
       "  <tbody>\n",
       "    <tr>\n",
       "      <th>0</th>\n",
       "      <td>INFJ</td>\n",
       "      <td>'http://www.youtube.com/watch?v=qsXHcwe3krw|||...</td>\n",
       "      <td>http://www.youtube.com/watch?v=qsXHcwe3krw|||h...</td>\n",
       "      <td>[http://www.youtube.com/watch?v=qsXHcwe3krw, h...</td>\n",
       "      <td>[http://www.youtube.com/watch?v=qsxhcwe3krw, h...</td>\n",
       "    </tr>\n",
       "    <tr>\n",
       "      <th>1</th>\n",
       "      <td>ENTP</td>\n",
       "      <td>'I'm finding the lack of me in these posts ver...</td>\n",
       "      <td>I'm finding the lack of me in these posts very...</td>\n",
       "      <td>[I'm finding the lack of me in these posts ver...</td>\n",
       "      <td>[i'm finding the lack of me in these posts ver...</td>\n",
       "    </tr>\n",
       "    <tr>\n",
       "      <th>2</th>\n",
       "      <td>INTP</td>\n",
       "      <td>'Good one  _____   https://www.youtube.com/wat...</td>\n",
       "      <td>Good one  _____   https://www.youtube.com/watc...</td>\n",
       "      <td>[Good one  _____   https://www.youtube.com/wat...</td>\n",
       "      <td>[good one  _____   https://www.youtube.com/wat...</td>\n",
       "    </tr>\n",
       "    <tr>\n",
       "      <th>3</th>\n",
       "      <td>INTJ</td>\n",
       "      <td>'Dear INTP,   I enjoyed our conversation the o...</td>\n",
       "      <td>Dear INTP,   I enjoyed our conversation the ot...</td>\n",
       "      <td>[Dear INTP,   I enjoyed our conversation the o...</td>\n",
       "      <td>[dear intp,   i enjoyed our conversation the o...</td>\n",
       "    </tr>\n",
       "    <tr>\n",
       "      <th>4</th>\n",
       "      <td>ENTJ</td>\n",
       "      <td>'You're fired.|||That's another silly misconce...</td>\n",
       "      <td>You're fired.|||That's another silly misconcep...</td>\n",
       "      <td>[You're fired., That's another silly misconcep...</td>\n",
       "      <td>[you're fired., that's another silly misconcep...</td>\n",
       "    </tr>\n",
       "  </tbody>\n",
       "</table>\n",
       "</div>"
      ],
      "text/plain": [
       "   type                                              posts  \\\n",
       "0  INFJ  'http://www.youtube.com/watch?v=qsXHcwe3krw|||...   \n",
       "1  ENTP  'I'm finding the lack of me in these posts ver...   \n",
       "2  INTP  'Good one  _____   https://www.youtube.com/wat...   \n",
       "3  INTJ  'Dear INTP,   I enjoyed our conversation the o...   \n",
       "4  ENTJ  'You're fired.|||That's another silly misconce...   \n",
       "\n",
       "                             posts_processed_dequote  \\\n",
       "0  http://www.youtube.com/watch?v=qsXHcwe3krw|||h...   \n",
       "1  I'm finding the lack of me in these posts very...   \n",
       "2  Good one  _____   https://www.youtube.com/watc...   \n",
       "3  Dear INTP,   I enjoyed our conversation the ot...   \n",
       "4  You're fired.|||That's another silly misconcep...   \n",
       "\n",
       "                       posts_processed_dequote_split  \\\n",
       "0  [http://www.youtube.com/watch?v=qsXHcwe3krw, h...   \n",
       "1  [I'm finding the lack of me in these posts ver...   \n",
       "2  [Good one  _____   https://www.youtube.com/wat...   \n",
       "3  [Dear INTP,   I enjoyed our conversation the o...   \n",
       "4  [You're fired., That's another silly misconcep...   \n",
       "\n",
       "             posts_processed_dequote_split_lowercase  \n",
       "0  [http://www.youtube.com/watch?v=qsxhcwe3krw, h...  \n",
       "1  [i'm finding the lack of me in these posts ver...  \n",
       "2  [good one  _____   https://www.youtube.com/wat...  \n",
       "3  [dear intp,   i enjoyed our conversation the o...  \n",
       "4  [you're fired., that's another silly misconcep...  "
      ]
     },
     "execution_count": 7,
     "metadata": {},
     "output_type": "execute_result"
    }
   ],
   "source": [
    "df['posts_processed_dequote_split_lowercase']=df['posts_processed_dequote_split'].apply(lambda posts : list(map(str.lower, posts)))\n",
    "print('lowercase')\n",
    "print('Vergleich')\n",
    "print(df.at[0, 'posts_processed_dequote_split'])\n",
    "print(df.at[0, 'posts_processed_dequote_split_lowercase'])\n",
    "df.head()\n"
   ]
  },
  {
   "cell_type": "code",
   "execution_count": 8,
   "metadata": {
    "jupyter": {
     "outputs_hidden": false
    },
    "pycharm": {
     "name": "#%%\n"
    }
   },
   "outputs": [
    {
     "name": "stdout",
     "output_type": "stream",
     "text": [
      "Count Links\n"
     ]
    },
    {
     "data": {
      "text/html": [
       "<div>\n",
       "<style scoped>\n",
       "    .dataframe tbody tr th:only-of-type {\n",
       "        vertical-align: middle;\n",
       "    }\n",
       "\n",
       "    .dataframe tbody tr th {\n",
       "        vertical-align: top;\n",
       "    }\n",
       "\n",
       "    .dataframe thead th {\n",
       "        text-align: right;\n",
       "    }\n",
       "</style>\n",
       "<table border=\"1\" class=\"dataframe\">\n",
       "  <thead>\n",
       "    <tr style=\"text-align: right;\">\n",
       "      <th></th>\n",
       "      <th>type</th>\n",
       "      <th>posts</th>\n",
       "      <th>posts_processed_dequote</th>\n",
       "      <th>posts_processed_dequote_split</th>\n",
       "      <th>posts_processed_dequote_split_lowercase</th>\n",
       "      <th>links_in_posts</th>\n",
       "    </tr>\n",
       "  </thead>\n",
       "  <tbody>\n",
       "    <tr>\n",
       "      <th>0</th>\n",
       "      <td>INFJ</td>\n",
       "      <td>'http://www.youtube.com/watch?v=qsXHcwe3krw|||...</td>\n",
       "      <td>http://www.youtube.com/watch?v=qsXHcwe3krw|||h...</td>\n",
       "      <td>[http://www.youtube.com/watch?v=qsXHcwe3krw, h...</td>\n",
       "      <td>[http://www.youtube.com/watch?v=qsxhcwe3krw, h...</td>\n",
       "      <td>24</td>\n",
       "    </tr>\n",
       "    <tr>\n",
       "      <th>1</th>\n",
       "      <td>ENTP</td>\n",
       "      <td>'I'm finding the lack of me in these posts ver...</td>\n",
       "      <td>I'm finding the lack of me in these posts very...</td>\n",
       "      <td>[I'm finding the lack of me in these posts ver...</td>\n",
       "      <td>[i'm finding the lack of me in these posts ver...</td>\n",
       "      <td>10</td>\n",
       "    </tr>\n",
       "    <tr>\n",
       "      <th>2</th>\n",
       "      <td>INTP</td>\n",
       "      <td>'Good one  _____   https://www.youtube.com/wat...</td>\n",
       "      <td>Good one  _____   https://www.youtube.com/watc...</td>\n",
       "      <td>[Good one  _____   https://www.youtube.com/wat...</td>\n",
       "      <td>[good one  _____   https://www.youtube.com/wat...</td>\n",
       "      <td>5</td>\n",
       "    </tr>\n",
       "    <tr>\n",
       "      <th>3</th>\n",
       "      <td>INTJ</td>\n",
       "      <td>'Dear INTP,   I enjoyed our conversation the o...</td>\n",
       "      <td>Dear INTP,   I enjoyed our conversation the ot...</td>\n",
       "      <td>[Dear INTP,   I enjoyed our conversation the o...</td>\n",
       "      <td>[dear intp,   i enjoyed our conversation the o...</td>\n",
       "      <td>2</td>\n",
       "    </tr>\n",
       "    <tr>\n",
       "      <th>4</th>\n",
       "      <td>ENTJ</td>\n",
       "      <td>'You're fired.|||That's another silly misconce...</td>\n",
       "      <td>You're fired.|||That's another silly misconcep...</td>\n",
       "      <td>[You're fired., That's another silly misconcep...</td>\n",
       "      <td>[you're fired., that's another silly misconcep...</td>\n",
       "      <td>6</td>\n",
       "    </tr>\n",
       "  </tbody>\n",
       "</table>\n",
       "</div>"
      ],
      "text/plain": [
       "   type                                              posts  \\\n",
       "0  INFJ  'http://www.youtube.com/watch?v=qsXHcwe3krw|||...   \n",
       "1  ENTP  'I'm finding the lack of me in these posts ver...   \n",
       "2  INTP  'Good one  _____   https://www.youtube.com/wat...   \n",
       "3  INTJ  'Dear INTP,   I enjoyed our conversation the o...   \n",
       "4  ENTJ  'You're fired.|||That's another silly misconce...   \n",
       "\n",
       "                             posts_processed_dequote  \\\n",
       "0  http://www.youtube.com/watch?v=qsXHcwe3krw|||h...   \n",
       "1  I'm finding the lack of me in these posts very...   \n",
       "2  Good one  _____   https://www.youtube.com/watc...   \n",
       "3  Dear INTP,   I enjoyed our conversation the ot...   \n",
       "4  You're fired.|||That's another silly misconcep...   \n",
       "\n",
       "                       posts_processed_dequote_split  \\\n",
       "0  [http://www.youtube.com/watch?v=qsXHcwe3krw, h...   \n",
       "1  [I'm finding the lack of me in these posts ver...   \n",
       "2  [Good one  _____   https://www.youtube.com/wat...   \n",
       "3  [Dear INTP,   I enjoyed our conversation the o...   \n",
       "4  [You're fired., That's another silly misconcep...   \n",
       "\n",
       "             posts_processed_dequote_split_lowercase  links_in_posts  \n",
       "0  [http://www.youtube.com/watch?v=qsxhcwe3krw, h...              24  \n",
       "1  [i'm finding the lack of me in these posts ver...              10  \n",
       "2  [good one  _____   https://www.youtube.com/wat...               5  \n",
       "3  [dear intp,   i enjoyed our conversation the o...               2  \n",
       "4  [you're fired., that's another silly misconcep...               6  "
      ]
     },
     "execution_count": 8,
     "metadata": {},
     "output_type": "execute_result"
    }
   ],
   "source": [
    "#Links in den Kommentaren Zählen\n",
    "\n",
    "def count_links_in_list (list):\n",
    "    link_counter = 0\n",
    "    for e in list:\n",
    "        link_counter += e.count('http')\n",
    "    return link_counter\n",
    "\n",
    "df['links_in_posts'] = df['posts_processed_dequote_split_lowercase'].apply(count_links_in_list)\n",
    "print('Count Links')\n",
    "df.head(5)"
   ]
  },
  {
   "cell_type": "code",
   "execution_count": 9,
   "metadata": {
    "jupyter": {
     "outputs_hidden": false
    },
    "pycharm": {
     "name": "#%%\n"
    }
   },
   "outputs": [
    {
     "data": {
      "text/html": [
       "<div>\n",
       "<style scoped>\n",
       "    .dataframe tbody tr th:only-of-type {\n",
       "        vertical-align: middle;\n",
       "    }\n",
       "\n",
       "    .dataframe tbody tr th {\n",
       "        vertical-align: top;\n",
       "    }\n",
       "\n",
       "    .dataframe thead th {\n",
       "        text-align: right;\n",
       "    }\n",
       "</style>\n",
       "<table border=\"1\" class=\"dataframe\">\n",
       "  <thead>\n",
       "    <tr style=\"text-align: right;\">\n",
       "      <th></th>\n",
       "      <th>type</th>\n",
       "      <th>posts</th>\n",
       "      <th>posts_processed_dequote</th>\n",
       "      <th>posts_processed_dequote_split</th>\n",
       "      <th>posts_processed_dequote_split_lowercase</th>\n",
       "      <th>links_in_posts</th>\n",
       "      <th>avg_link_per_post</th>\n",
       "    </tr>\n",
       "  </thead>\n",
       "  <tbody>\n",
       "    <tr>\n",
       "      <th>0</th>\n",
       "      <td>INFJ</td>\n",
       "      <td>'http://www.youtube.com/watch?v=qsXHcwe3krw|||...</td>\n",
       "      <td>http://www.youtube.com/watch?v=qsXHcwe3krw|||h...</td>\n",
       "      <td>[http://www.youtube.com/watch?v=qsXHcwe3krw, h...</td>\n",
       "      <td>[http://www.youtube.com/watch?v=qsxhcwe3krw, h...</td>\n",
       "      <td>24</td>\n",
       "      <td>0.48</td>\n",
       "    </tr>\n",
       "    <tr>\n",
       "      <th>1</th>\n",
       "      <td>ENTP</td>\n",
       "      <td>'I'm finding the lack of me in these posts ver...</td>\n",
       "      <td>I'm finding the lack of me in these posts very...</td>\n",
       "      <td>[I'm finding the lack of me in these posts ver...</td>\n",
       "      <td>[i'm finding the lack of me in these posts ver...</td>\n",
       "      <td>10</td>\n",
       "      <td>0.20</td>\n",
       "    </tr>\n",
       "    <tr>\n",
       "      <th>2</th>\n",
       "      <td>INTP</td>\n",
       "      <td>'Good one  _____   https://www.youtube.com/wat...</td>\n",
       "      <td>Good one  _____   https://www.youtube.com/watc...</td>\n",
       "      <td>[Good one  _____   https://www.youtube.com/wat...</td>\n",
       "      <td>[good one  _____   https://www.youtube.com/wat...</td>\n",
       "      <td>5</td>\n",
       "      <td>0.10</td>\n",
       "    </tr>\n",
       "    <tr>\n",
       "      <th>3</th>\n",
       "      <td>INTJ</td>\n",
       "      <td>'Dear INTP,   I enjoyed our conversation the o...</td>\n",
       "      <td>Dear INTP,   I enjoyed our conversation the ot...</td>\n",
       "      <td>[Dear INTP,   I enjoyed our conversation the o...</td>\n",
       "      <td>[dear intp,   i enjoyed our conversation the o...</td>\n",
       "      <td>2</td>\n",
       "      <td>0.04</td>\n",
       "    </tr>\n",
       "    <tr>\n",
       "      <th>4</th>\n",
       "      <td>ENTJ</td>\n",
       "      <td>'You're fired.|||That's another silly misconce...</td>\n",
       "      <td>You're fired.|||That's another silly misconcep...</td>\n",
       "      <td>[You're fired., That's another silly misconcep...</td>\n",
       "      <td>[you're fired., that's another silly misconcep...</td>\n",
       "      <td>6</td>\n",
       "      <td>0.12</td>\n",
       "    </tr>\n",
       "  </tbody>\n",
       "</table>\n",
       "</div>"
      ],
      "text/plain": [
       "   type                                              posts  \\\n",
       "0  INFJ  'http://www.youtube.com/watch?v=qsXHcwe3krw|||...   \n",
       "1  ENTP  'I'm finding the lack of me in these posts ver...   \n",
       "2  INTP  'Good one  _____   https://www.youtube.com/wat...   \n",
       "3  INTJ  'Dear INTP,   I enjoyed our conversation the o...   \n",
       "4  ENTJ  'You're fired.|||That's another silly misconce...   \n",
       "\n",
       "                             posts_processed_dequote  \\\n",
       "0  http://www.youtube.com/watch?v=qsXHcwe3krw|||h...   \n",
       "1  I'm finding the lack of me in these posts very...   \n",
       "2  Good one  _____   https://www.youtube.com/watc...   \n",
       "3  Dear INTP,   I enjoyed our conversation the ot...   \n",
       "4  You're fired.|||That's another silly misconcep...   \n",
       "\n",
       "                       posts_processed_dequote_split  \\\n",
       "0  [http://www.youtube.com/watch?v=qsXHcwe3krw, h...   \n",
       "1  [I'm finding the lack of me in these posts ver...   \n",
       "2  [Good one  _____   https://www.youtube.com/wat...   \n",
       "3  [Dear INTP,   I enjoyed our conversation the o...   \n",
       "4  [You're fired., That's another silly misconcep...   \n",
       "\n",
       "             posts_processed_dequote_split_lowercase  links_in_posts  \\\n",
       "0  [http://www.youtube.com/watch?v=qsxhcwe3krw, h...              24   \n",
       "1  [i'm finding the lack of me in these posts ver...              10   \n",
       "2  [good one  _____   https://www.youtube.com/wat...               5   \n",
       "3  [dear intp,   i enjoyed our conversation the o...               2   \n",
       "4  [you're fired., that's another silly misconcep...               6   \n",
       "\n",
       "   avg_link_per_post  \n",
       "0               0.48  \n",
       "1               0.20  \n",
       "2               0.10  \n",
       "3               0.04  \n",
       "4               0.12  "
      ]
     },
     "execution_count": 9,
     "metadata": {},
     "output_type": "execute_result"
    }
   ],
   "source": [
    "#Durchschnitt Links pro 50 Posts\n",
    "df['avg_link_per_post'] = df['links_in_posts'].divide(50.0)\n",
    "df.head(5)"
   ]
  },
  {
   "cell_type": "code",
   "execution_count": 10,
   "metadata": {
    "jupyter": {
     "outputs_hidden": false
    },
    "pycharm": {
     "name": "#%%\n"
    }
   },
   "outputs": [
    {
     "data": {
      "text/plain": [
       "<AxesSubplot:xlabel='type', ylabel='avg_link_per_post'>"
      ]
     },
     "execution_count": 10,
     "metadata": {},
     "output_type": "execute_result"
    },
    {
     "data": {
      "image/png": "[encoded data removed]",
      "text/plain": [
       "<Figure size 1080x720 with 1 Axes>"
      ]
     },
     "metadata": {
      "needs_background": "light"
     },
     "output_type": "display_data"
    }
   ],
   "source": [
    "#Durchschnitt Links pro 50 Posts visualisieren\n",
    "plt.figure(figsize=(15,10))\n",
    "sns.stripplot(x='type', y = 'avg_link_per_post', s = 4,data = df)"
   ]
  },
  {
   "cell_type": "code",
   "execution_count": 11,
   "metadata": {
    "jupyter": {
     "outputs_hidden": false
    },
    "pycharm": {
     "name": "#%%\n"
    }
   },
   "outputs": [
    {
     "name": "stdout",
     "output_type": "stream",
     "text": [
      "Removed Links\n",
      "Before\n",
      "['http://www.youtube.com/watch?v=qsxhcwe3krw', 'http://41.media.tumblr.com/tumblr_lfouy03pma1qa1rooo1_500.jpg', 'enfp and intj moments  https://www.youtube.com/watch?v=iz7le1g4xm4  sportscenter not top ten plays  https://www.youtube.com/watch?v=ucdfze1etec  pranks', 'what has been the most life-changing experience in your life?', 'http://www.youtube.com/watch?v=vxzeywwrdw8   http://www.youtube.com/watch?v=u8ejam5dp3e  on repeat for most of today.', 'may the perc experience immerse you.', 'the last thing my infj friend posted on his facebook before committing suicide the next day. rest in peace~   http://vimeo.com/22842206', \"hello enfj7. sorry to hear of your distress. it's only natural for a relationship to not be perfection all the time in every moment of existence. try to figure the hard times as times of growth, as...\", '84389  84390  http://wallpaperpassion.com/upload/23700/friendship-boy-and-girl-wallpaper.jpg  http://assets.dornob.com/wp-content/uploads/2010/04/round-home-design.jpg ...', 'welcome and stuff.', 'http://playeressence.com/wp-content/uploads/2013/08/red-red-the-pokemon-master-32560474-450-338.jpg  game. set. match.', \"prozac, wellbrutin, at least thirty minutes of moving your legs (and i don't mean moving them while sitting in your same desk chair), weed in moderation (maybe try edibles as a healthier alternative...\", \"basically come up with three items you've determined that each type (or whichever types you want to do) would more than likely use, given each types' cognitive functions and whatnot, when left by...\", 'all things in moderation.  sims is indeed a video game, and a good one at that. note: a good one at that is somewhat subjective in that i am not completely promoting the death of any given sim...', 'dear enfp:  what were your favorite video games growing up and what are your now, current favorite video games? :cool:', 'https://www.youtube.com/watch?v=qypqt8umzmy', 'it appears to be too late. :sad:', \"there's someone out there for everyone.\", 'wait... i thought confidence was a good thing.', \"i just cherish the time of solitude b/c i revel within my inner world more whereas most other time i'd be workin... just enjoy the me time while you can. don't worry, people will always be around to...\", \"yo entp ladies... if you're into a complimentary personality,well, hey.\", '... when your main social outlet is xbox live conversations and even then you verbally fatigue quickly.', 'http://www.youtube.com/watch?v=gdhy7rdfm14  i really dig the part from 1:46 to 2:50', 'http://www.youtube.com/watch?v=msqxffgh7b8', 'banned because this thread requires it of me.', 'get high in backyard, roast and eat marshmellows in backyard while conversing over something intellectual, followed by massages and kisses.', 'http://www.youtube.com/watch?v=mw7eou3bmbe', 'http://www.youtube.com/watch?v=4v2uyorhqok', 'http://www.youtube.com/watch?v=slvmgfqq0ti', \"banned for too many b's in that sentence. how could you! think of the b!\", 'banned for watching movies in the corner with the dunces.', 'banned because health class clearly taught you nothing about peer pressure.', 'banned for a whole host of reasons!', 'http://www.youtube.com/watch?v=ircrv41hgz4', \"1) two baby deer on left and right munching on a beetle in the middle.  2) using their own blood, two cavemen diary today's latest happenings on their designated cave diary wall.  3) i see it as...\", 'a pokemon world  an infj society  everyone becomes an optimist', '49142', 'http://www.youtube.com/watch?v=zrceq_jfefm', 'http://discovermagazine.com/2012/jul-aug/20-things-you-didnt-know-about-deserts/desert.jpg', 'http://oyster.ignimgs.com/mediawiki/apis.ign.com/pokemon-silver-version/d/dd/ditto.gif', 'http://www.serebii.net/potw-dp/scizor.jpg', \"not all artists are artists because they draw. it's the idea that counts in forming something of your own... like a signature.\", \"welcome to the robot ranks, person who downed my self-esteem cuz i'm not an avid signature artist like herself. :proud:\", 'banned for taking all the room under my bed. ya gotta learn to share with the roaches.', 'http://www.youtube.com/watch?v=w8igimn57aq', 'banned for being too much of a thundering, grumbling kind of storm... yep.', \"ahh... old high school music i haven't heard in ages.   http://www.youtube.com/watch?v=dccrupcdb1w\", \"i failed a public speaking class a few years ago and i've sort of learned what i could do better were i to be in that position again. a big part of my failure was just overloading myself with too...\", \"i like this person's mentality. he's a confirmed intj by the way. http://www.youtube.com/watch?v=hgkli-gec6m\", 'move to the denver area and start a new life for myself.']\n",
      "After\n",
      "['', '', 'enfp and intj moments    sportscenter not top ten plays    pranks', 'what has been the most life-changing experience in your life?', '     on repeat for most of today.', 'may the perc experience immerse you.', 'the last thing my infj friend posted on his facebook before committing suicide the next day. rest in peace~   ', \"hello enfj7. sorry to hear of your distress. it's only natural for a relationship to not be perfection all the time in every moment of existence. try to figure the hard times as times of growth, as...\", '84389  84390     ...', 'welcome and stuff.', '  game. set. match.', \"prozac, wellbrutin, at least thirty minutes of moving your legs (and i don't mean moving them while sitting in your same desk chair), weed in moderation (maybe try edibles as a healthier alternative...\", \"basically come up with three items you've determined that each type (or whichever types you want to do) would more than likely use, given each types' cognitive functions and whatnot, when left by...\", 'all things in moderation.  sims is indeed a video game, and a good one at that. note: a good one at that is somewhat subjective in that i am not completely promoting the death of any given sim...', 'dear enfp:  what were your favorite video games growing up and what are your now, current favorite video games? :cool:', '', 'it appears to be too late. :sad:', \"there's someone out there for everyone.\", 'wait... i thought confidence was a good thing.', \"i just cherish the time of solitude b/c i revel within my inner world more whereas most other time i'd be workin... just enjoy the me time while you can. don't worry, people will always be around to...\", \"yo entp ladies... if you're into a complimentary personality,well, hey.\", '... when your main social outlet is xbox live conversations and even then you verbally fatigue quickly.', '  i really dig the part from 1:46 to 2:50', '', 'banned because this thread requires it of me.', 'get high in backyard, roast and eat marshmellows in backyard while conversing over something intellectual, followed by massages and kisses.', '', '', '', \"banned for too many b's in that sentence. how could you! think of the b!\", 'banned for watching movies in the corner with the dunces.', 'banned because health class clearly taught you nothing about peer pressure.', 'banned for a whole host of reasons!', '', \"1) two baby deer on left and right munching on a beetle in the middle.  2) using their own blood, two cavemen diary today's latest happenings on their designated cave diary wall.  3) i see it as...\", 'a pokemon world  an infj society  everyone becomes an optimist', '49142', '', '', '', '', \"not all artists are artists because they draw. it's the idea that counts in forming something of your own... like a signature.\", \"welcome to the robot ranks, person who downed my self-esteem cuz i'm not an avid signature artist like herself. :proud:\", 'banned for taking all the room under my bed. ya gotta learn to share with the roaches.', '', 'banned for being too much of a thundering, grumbling kind of storm... yep.', \"ahh... old high school music i haven't heard in ages.   \", \"i failed a public speaking class a few years ago and i've sort of learned what i could do better were i to be in that position again. a big part of my failure was just overloading myself with too...\", \"i like this person's mentality. he's a confirmed intj by the way. \", 'move to the denver area and start a new life for myself.']\n"
     ]
    },
    {
     "data": {
      "text/html": [
       "<div>\n",
       "<style scoped>\n",
       "    .dataframe tbody tr th:only-of-type {\n",
       "        vertical-align: middle;\n",
       "    }\n",
       "\n",
       "    .dataframe tbody tr th {\n",
       "        vertical-align: top;\n",
       "    }\n",
       "\n",
       "    .dataframe thead th {\n",
       "        text-align: right;\n",
       "    }\n",
       "</style>\n",
       "<table border=\"1\" class=\"dataframe\">\n",
       "  <thead>\n",
       "    <tr style=\"text-align: right;\">\n",
       "      <th></th>\n",
       "      <th>type</th>\n",
       "      <th>posts</th>\n",
       "      <th>posts_processed_dequote</th>\n",
       "      <th>posts_processed_dequote_split</th>\n",
       "      <th>posts_processed_dequote_split_lowercase</th>\n",
       "      <th>links_in_posts</th>\n",
       "      <th>avg_link_per_post</th>\n",
       "      <th>posts_processed_dequote_split_lowercase_linksRemoved</th>\n",
       "    </tr>\n",
       "  </thead>\n",
       "  <tbody>\n",
       "    <tr>\n",
       "      <th>0</th>\n",
       "      <td>INFJ</td>\n",
       "      <td>'http://www.youtube.com/watch?v=qsXHcwe3krw|||...</td>\n",
       "      <td>http://www.youtube.com/watch?v=qsXHcwe3krw|||h...</td>\n",
       "      <td>[http://www.youtube.com/watch?v=qsXHcwe3krw, h...</td>\n",
       "      <td>[http://www.youtube.com/watch?v=qsxhcwe3krw, h...</td>\n",
       "      <td>24</td>\n",
       "      <td>0.48</td>\n",
       "      <td>[, , enfp and intj moments    sportscenter not...</td>\n",
       "    </tr>\n",
       "    <tr>\n",
       "      <th>1</th>\n",
       "      <td>ENTP</td>\n",
       "      <td>'I'm finding the lack of me in these posts ver...</td>\n",
       "      <td>I'm finding the lack of me in these posts very...</td>\n",
       "      <td>[I'm finding the lack of me in these posts ver...</td>\n",
       "      <td>[i'm finding the lack of me in these posts ver...</td>\n",
       "      <td>10</td>\n",
       "      <td>0.20</td>\n",
       "      <td>[i'm finding the lack of me in these posts ver...</td>\n",
       "    </tr>\n",
       "    <tr>\n",
       "      <th>2</th>\n",
       "      <td>INTP</td>\n",
       "      <td>'Good one  _____   https://www.youtube.com/wat...</td>\n",
       "      <td>Good one  _____   https://www.youtube.com/watc...</td>\n",
       "      <td>[Good one  _____   https://www.youtube.com/wat...</td>\n",
       "      <td>[good one  _____   https://www.youtube.com/wat...</td>\n",
       "      <td>5</td>\n",
       "      <td>0.10</td>\n",
       "      <td>[good one  _____   , of course, to which i say...</td>\n",
       "    </tr>\n",
       "    <tr>\n",
       "      <th>3</th>\n",
       "      <td>INTJ</td>\n",
       "      <td>'Dear INTP,   I enjoyed our conversation the o...</td>\n",
       "      <td>Dear INTP,   I enjoyed our conversation the ot...</td>\n",
       "      <td>[Dear INTP,   I enjoyed our conversation the o...</td>\n",
       "      <td>[dear intp,   i enjoyed our conversation the o...</td>\n",
       "      <td>2</td>\n",
       "      <td>0.04</td>\n",
       "      <td>[dear intp,   i enjoyed our conversation the o...</td>\n",
       "    </tr>\n",
       "    <tr>\n",
       "      <th>4</th>\n",
       "      <td>ENTJ</td>\n",
       "      <td>'You're fired.|||That's another silly misconce...</td>\n",
       "      <td>You're fired.|||That's another silly misconcep...</td>\n",
       "      <td>[You're fired., That's another silly misconcep...</td>\n",
       "      <td>[you're fired., that's another silly misconcep...</td>\n",
       "      <td>6</td>\n",
       "      <td>0.12</td>\n",
       "      <td>[you're fired., that's another silly misconcep...</td>\n",
       "    </tr>\n",
       "  </tbody>\n",
       "</table>\n",
       "</div>"
      ],
      "text/plain": [
       "   type                                              posts  \\\n",
       "0  INFJ  'http://www.youtube.com/watch?v=qsXHcwe3krw|||...   \n",
       "1  ENTP  'I'm finding the lack of me in these posts ver...   \n",
       "2  INTP  'Good one  _____   https://www.youtube.com/wat...   \n",
       "3  INTJ  'Dear INTP,   I enjoyed our conversation the o...   \n",
       "4  ENTJ  'You're fired.|||That's another silly misconce...   \n",
       "\n",
       "                             posts_processed_dequote  \\\n",
       "0  http://www.youtube.com/watch?v=qsXHcwe3krw|||h...   \n",
       "1  I'm finding the lack of me in these posts very...   \n",
       "2  Good one  _____   https://www.youtube.com/watc...   \n",
       "3  Dear INTP,   I enjoyed our conversation the ot...   \n",
       "4  You're fired.|||That's another silly misconcep...   \n",
       "\n",
       "                       posts_processed_dequote_split  \\\n",
       "0  [http://www.youtube.com/watch?v=qsXHcwe3krw, h...   \n",
       "1  [I'm finding the lack of me in these posts ver...   \n",
       "2  [Good one  _____   https://www.youtube.com/wat...   \n",
       "3  [Dear INTP,   I enjoyed our conversation the o...   \n",
       "4  [You're fired., That's another silly misconcep...   \n",
       "\n",
       "             posts_processed_dequote_split_lowercase  links_in_posts  \\\n",
       "0  [http://www.youtube.com/watch?v=qsxhcwe3krw, h...              24   \n",
       "1  [i'm finding the lack of me in these posts ver...              10   \n",
       "2  [good one  _____   https://www.youtube.com/wat...               5   \n",
       "3  [dear intp,   i enjoyed our conversation the o...               2   \n",
       "4  [you're fired., that's another silly misconcep...               6   \n",
       "\n",
       "   avg_link_per_post posts_processed_dequote_split_lowercase_linksRemoved  \n",
       "0               0.48  [, , enfp and intj moments    sportscenter not...    \n",
       "1               0.20  [i'm finding the lack of me in these posts ver...    \n",
       "2               0.10  [good one  _____   , of course, to which i say...    \n",
       "3               0.04  [dear intp,   i enjoyed our conversation the o...    \n",
       "4               0.12  [you're fired., that's another silly misconcep...    "
      ]
     },
     "execution_count": 11,
     "metadata": {},
     "output_type": "execute_result"
    }
   ],
   "source": [
    "def remove_URL(stringliteral):\n",
    "    \"\"\"Remove URLs from a sample string\"\"\"\n",
    "    return re.sub(r'https?://\\S+', '', str(stringliteral))\n",
    "\n",
    "df['posts_processed_dequote_split_lowercase_linksRemoved']=df['posts_processed_dequote_split_lowercase'].apply(lambda posts : list(map(remove_URL, posts)))\n",
    "print('Removed Links')\n",
    "print('Before')\n",
    "print(df.at[0, 'posts_processed_dequote_split_lowercase'])\n",
    "print('After')\n",
    "print(df.at[0, 'posts_processed_dequote_split_lowercase_linksRemoved'])\n",
    "df.head(5)"
   ]
  },
  {
   "cell_type": "markdown",
   "metadata": {
    "pycharm": {
     "name": "#%% md\n"
    }
   },
   "source": [
    "**Achtung** : Ab hier nicht mehr immer 50 Posts pro Zeile, da einige Posts nur aus einem Link bestanden und diese nun entfernt wurden -> Leeres Element in der Liste an Posts."
   ]
  },
  {
   "cell_type": "code",
   "execution_count": 12,
   "metadata": {
    "jupyter": {
     "outputs_hidden": false
    },
    "pycharm": {
     "name": "#%%\n"
    }
   },
   "outputs": [
    {
     "name": "stdout",
     "output_type": "stream",
     "text": [
      "Abkürzungen entfernen\n",
      "Before\n",
      "[\"i'm finding the lack of me in these posts very alarming.\", \"sex can be boring if it's in the same position often. for example me and my girlfriend are currently in an environment where we have to creatively use cowgirl and missionary. there isn't enough...\", \"giving new meaning to 'game' theory.\", \"hello *entp grin*  that's all it takes. than we converse and they do most of the flirting while i acknowledge their presence and return their words with smooth wordplay and more cheeky grins.\", 'this + lack of balance and hand eye coordination.', \"real iq test i score 127. internet iq tests are funny. i score 140s or higher.  now, like the former responses of this thread i will mention that i don't believe in the iq test. before you banish...\", \"you know you're an entp when you vanish from a site for a year and a half, return, and find people are still commenting on your posts and liking your ideas/thoughts. you know you're an entp when you...\", '', '', 'i over think things sometimes. i go by the old sherlock holmes quote.  perhaps, when a man has special knowledge and special powers like my  own, it rather encourages him to seek a complex...', 'cheshirewolf.tumblr.com  so is i :d', '400,000+  post', \"not really; i've never thought of e/i or j/p as real functions.  i judge myself on what i use. i use ne and ti as my dominates. fe for emotions and rarely si. i also use ni due to me strength...\", 'you know though. that was ingenious. after saying it i really want to try it and see what happens with me playing a first person shooter in the back while we drive around. i want to see the look on...', \"out of all of them the rock paper one is the best. it makes me lol.  you guys are lucky :d i'm really high up on the tumblr system.\", \"so did you hear about that new first person shooter game? i've been rocking the hell out of the soundtrack on my auto sound equipment that will shake the heavens. we managed to put a couple ps3's in...\", 'no; the way he connected things was very ne. ne dominates are just as aware of their environments as se dominates.  example: shawn spencer or patrick jane; both entps.', \"well charlie i will be the first to admit i do get jealous like you do. i chalk it up to my 4w3 heart mixed with my dominate 7w8. 7s and 8s both like to be noticed. 4's like to be known (not the same...\", \";d i'll upload the same clip with the mic away from my mouth. than you won't hear anything.  ninja assassin style but with splatter.\", 'tik tok is a really great song. as long as you can mental block out the singer. i love the beat it makes me bounce.', 'drop.io v1swck0  :d mic really close to my mouth and smokin aces: assassins ball playing in the background.', \"sociable =/= extrovert; i'm an extrovert and i'm not sociable. :)\", \"sherlock in the movie was an entp. normally he's played as a extj. in the books he's an estj.  as i said. the movie looked good except for it being called sherlock holmes.\", '', \"oh, i never had fear of kissing a guy. i will kiss an animal too. so there was nothing to vanish. just personal taste and me not liking it.  the guy i kissed didn't know me. it was one of those...\", \"sounds pretty much like my area and what i'm going through right now trying to figure out which way i want to take my life. i want to do so many things. the biggest problem is that i know if i don't...\", ';d i was operating under the impression that you were female. i never looked at your boxy. okay, i help out my gay friends all the time and one of them has developed a little crush on me. i get red...', \"t_t you just described me  and i'm living the worst nightmare. i'm trapped in one place with one one around. only dull woods. if i was a serial killer this would be the perfect place but sadly i'm...\", 'tbh, and biased, sounds like a shadowed infp. i think maybe he was hurt and turned estj. i can tell because he has some of the typical infp traits left over.', \"*checks list* i'm sorry. it seems that you have came at a bad time. we've already reached our quota of infjs. however, being you're female and i like females i will make you a deal. i will kick one...\", \"i'm antp (leaning toward e). i'm easy for both entps and intps to identify with. :)\", \"i also imagine entp's interrogations would go a little bit like jack's from 24 except more mechanical. rigging up shock treatment equipment in an abandoned building out of an old car batty, jumper...\", \"it was a compliment :) trust me. i'm just as psychopathic :d except i have emoticons. they're just weird ones. like laughing when i get hurt or at people running themselves over with their lawn mower...\", ' ', \"no. it's like a theme for where i live and that is why i know it by heart.   \", \"and i usual don't leave until the thing ends. but in the mean time. in between times. you work your thing. i'll work mine :d  ;d i'm the mbp; pleasure to meet you.\", 'damn, need to trust my instincts more i would have been closer i was going to say infp.', 'exfp? leaning toward s with the way she responded.  :d my friends, even my gay and lesbian ones, always come to me for advice.', \"i bow to my entp masters entps are so great. if it wasn't for entps i wouldn't have been able to build what i'm building  duck duck  duck  shotgun\", 'what? me? i never do that >.> <.<', \"because its hard to be sad about losing someone you like when you knew you were right and give yourself a big pat on the back because you're awesome and always correct.\", \"oh, you don't have to tell me that most of them are stupid. i know this. that is why i play with them and it makes me laugh. :d as i'm going to take neuropsychology and i have a few psychologist...\", \":d i'm a nightowl. i wake up between 6-7pm and stay awake till 10-11:30am.\", 'personal opinion backed by theory would suggest that intps are the most socially difficult. while intjs can be socially indifferent but they will also use social situations if the the need arises....', \"personal stocks that i have on my desktop that i've downloaded from random stock sites and stock photobuckets.\", \"i'll tell you when i open photoshop.  :) glad you like it static.\", ':d thanks.', '   made for a friend. several hours of work. i constructed every line by...', \":) static:   i'll have to get to your avatar later if one of my fellow teammates doesn't.\", \"psychologist don't keep me around long enough to diagnosis me. i like to toy with them. what i have diagnosis myself with and had a few psychologist friends (+ a few other friends) tell me i have is...\"]\n",
      "After\n",
      "['i am finding the lack of me in these posts very alarming.', 'sex can be boring if it is in the same position often. for example me and my girlfriend are currently in an environment where we have to creatively use cowgirl and missionary. there is not enough...', \"giving new meaning to 'game' theory.\", 'hello *entp grin*  that is all it takes. than we converse and they do most of the flirting while i acknowledge their presence and return their words with smooth wordplay and more cheeky grins.', 'this + lack of balance and hand eye coordination.', 'real iq test i score 127. internet iq tests are funny. i score 140s or higher.  now, like the former responses of this thread i will mention that i do not believe in the iq test. before you banish...', 'you know you are an entp when you vanish from a site for a year and a half, return, and find people are still commenting on your posts and liking your ideas/thoughts. you know you are an entp when you...', '', '', 'i over think things sometimes. i go by the old sherlock holmes quote.  perhaps, when a man has special knowledge and special powers like my  own, it rather encourages him to seek a complex...', 'cheshirewolf.tumblr.com  so is i :d', '400,000+  post', 'not really; i have never thought of e/i or j/p as real functions.  i judge myself on what i use. i use ne and ti as my dominates. fe for emotions and rarely si. i also use ni due to me strength...', 'you know though. that was ingenious. after saying it i really want to try it and see what happens with me playing a first person shooter in the back while we drive around. i want to see the look on...', 'out of all of them the rock paper one is the best. it makes me lol.  you guys are lucky :d i am really high up on the tumblr system.', 'so did you hear about that new first person shooter game? i have been rocking the hell out of the soundtrack on my auto sound equipment that will shake the heavens. we managed to put a couple ps3 is in...', 'no; the way he connected things was very ne. ne dominates are just as aware of their environments as se dominates.  example: shawn spencer or patrick jane; both entps.', 'well charlie i will be the first to admit i do get jealous like you do. i chalk it up to my 4w3 heart mixed with my dominate 7w8. 7s and 8s both like to be noticed. 4 is like to be known (not the same...', ';d i will upload the same clip with the mic away from my mouth. than you will not hear anything.  ninja assassin style but with splatter.', 'tik tok is a really great song. as long as you can mental block out the singer. i love the beat it makes me bounce.', 'drop.io v1swck0  :d mic really close to my mouth and smokin aces: assassins ball playing in the background.', 'sociable =/= extrovert; i am an extrovert and i am not sociable. :)', 'sherlock in the movie was an entp. normally he is played as a extj. in the books he is an estj.  as i said. the movie looked good except for it being called sherlock holmes.', '', 'oh, i never had fear of kissing a guy. i will kiss an animal too. so there was nothing to vanish. just personal taste and me not liking it.  the guy i kissed did not know me. it was one of those...', 'sounds pretty much like my area and what i am going through right now trying to figure out which way i want to take my life. i want to do so many things. the biggest problem is that i know if i do not...', ';d i was operating under the impression that you were female. i never looked at your boxy. okay, i help out my gay friends all the time and one of them has developed a little crush on me. i get red...', 't_t you just described me  and i am living the worst nightmare. i am trapped in one place with one one around. only dull woods. if i was a serial killer this would be the perfect place but sadly i am...', 'tbh, and biased, sounds like a shadowed infp. i think maybe he was hurt and turned estj. i can tell because he has some of the typical infp traits left over.', '*checks list* i am sorry. it seems that you have came at a bad time. we have already reached our quota of infjs. however, being you are female and i like females i will make you a deal. i will kick one...', 'i am antp (leaning toward e). i am easy for both entps and intps to identify with. :)', 'i also imagine entp is interrogations would go a little bit like jack is from 24 except more mechanical. rigging up shock treatment equipment in an abandoned building out of an old car batty, jumper...', 'it was a compliment :) trust me. i am just as psychopathic :d except i have emoticons. they are just weird ones. like laughing when i get hurt or at people running themselves over with their lawn mower...', ' ', 'no. it is like a theme for where i live and that is why i know it by heart.   ', 'and i usual do not leave until the thing ends. but in the mean time. in between times. you work your thing. i will work mine :d  ;d i am the mbp; pleasure to meet you.', 'damn, need to trust my instincts more i would have been closer i was going to say infp.', 'exfp? leaning toward s with the way she responded.  :d my friends, even my gay and lesbian ones, always come to me for advice.', 'i bow to my entp masters entps are so great. if it was not for entps i would not have been able to build what i am building  duck duck  duck  shotgun', 'what? me? i never do that >.> <.<', 'because its hard to be sad about losing someone you like when you knew you were right and give yourself a big pat on the back because you are awesome and always correct.', 'oh, you do not have to tell me that most of them are stupid. i know this. that is why i play with them and it makes me laugh. :d as i am going to take neuropsychology and i have a few psychologist...', ':d i am a nightowl. i wake up between 6-7pm and stay awake till 10-11:30am.', 'personal opinion backed by theory would suggest that intps are the most socially difficult. while intjs can be socially indifferent but they will also use social situations if the the need arises....', 'personal stocks that i have on my desktop that i have downloaded from random stock sites and stock photobuckets.', 'i will tell you when i open photoshop.  :) glad you like it static.', ':d thanks.', '   made for a friend. several hours of work. i constructed every line by...', ':) static:   i will have to get to your avatar later if one of my fellow teammates does not.', 'psychologist do not keep me around long enough to diagnosis me. i like to toy with them. what i have diagnosis myself with and had a few psychologist friends (+ a few other friends) tell me i have is...']\n"
     ]
    },
    {
     "data": {
      "text/html": [
       "<div>\n",
       "<style scoped>\n",
       "    .dataframe tbody tr th:only-of-type {\n",
       "        vertical-align: middle;\n",
       "    }\n",
       "\n",
       "    .dataframe tbody tr th {\n",
       "        vertical-align: top;\n",
       "    }\n",
       "\n",
       "    .dataframe thead th {\n",
       "        text-align: right;\n",
       "    }\n",
       "</style>\n",
       "<table border=\"1\" class=\"dataframe\">\n",
       "  <thead>\n",
       "    <tr style=\"text-align: right;\">\n",
       "      <th></th>\n",
       "      <th>type</th>\n",
       "      <th>posts</th>\n",
       "      <th>posts_processed_dequote</th>\n",
       "      <th>posts_processed_dequote_split</th>\n",
       "      <th>posts_processed_dequote_split_lowercase</th>\n",
       "      <th>links_in_posts</th>\n",
       "      <th>avg_link_per_post</th>\n",
       "      <th>posts_processed_dequote_split_lowercase_linksRemoved</th>\n",
       "      <th>posts_processed_dequote_split_lowercase_linksRemoved_expandedContractions</th>\n",
       "    </tr>\n",
       "  </thead>\n",
       "  <tbody>\n",
       "    <tr>\n",
       "      <th>0</th>\n",
       "      <td>INFJ</td>\n",
       "      <td>'http://www.youtube.com/watch?v=qsXHcwe3krw|||...</td>\n",
       "      <td>http://www.youtube.com/watch?v=qsXHcwe3krw|||h...</td>\n",
       "      <td>[http://www.youtube.com/watch?v=qsXHcwe3krw, h...</td>\n",
       "      <td>[http://www.youtube.com/watch?v=qsxhcwe3krw, h...</td>\n",
       "      <td>24</td>\n",
       "      <td>0.48</td>\n",
       "      <td>[, , enfp and intj moments    sportscenter not...</td>\n",
       "      <td>[, , enfp and intj moments    sportscenter not...</td>\n",
       "    </tr>\n",
       "    <tr>\n",
       "      <th>1</th>\n",
       "      <td>ENTP</td>\n",
       "      <td>'I'm finding the lack of me in these posts ver...</td>\n",
       "      <td>I'm finding the lack of me in these posts very...</td>\n",
       "      <td>[I'm finding the lack of me in these posts ver...</td>\n",
       "      <td>[i'm finding the lack of me in these posts ver...</td>\n",
       "      <td>10</td>\n",
       "      <td>0.20</td>\n",
       "      <td>[i'm finding the lack of me in these posts ver...</td>\n",
       "      <td>[i am finding the lack of me in these posts ve...</td>\n",
       "    </tr>\n",
       "    <tr>\n",
       "      <th>2</th>\n",
       "      <td>INTP</td>\n",
       "      <td>'Good one  _____   https://www.youtube.com/wat...</td>\n",
       "      <td>Good one  _____   https://www.youtube.com/watc...</td>\n",
       "      <td>[Good one  _____   https://www.youtube.com/wat...</td>\n",
       "      <td>[good one  _____   https://www.youtube.com/wat...</td>\n",
       "      <td>5</td>\n",
       "      <td>0.10</td>\n",
       "      <td>[good one  _____   , of course, to which i say...</td>\n",
       "      <td>[good one  _____   , of course, to which i say...</td>\n",
       "    </tr>\n",
       "    <tr>\n",
       "      <th>3</th>\n",
       "      <td>INTJ</td>\n",
       "      <td>'Dear INTP,   I enjoyed our conversation the o...</td>\n",
       "      <td>Dear INTP,   I enjoyed our conversation the ot...</td>\n",
       "      <td>[Dear INTP,   I enjoyed our conversation the o...</td>\n",
       "      <td>[dear intp,   i enjoyed our conversation the o...</td>\n",
       "      <td>2</td>\n",
       "      <td>0.04</td>\n",
       "      <td>[dear intp,   i enjoyed our conversation the o...</td>\n",
       "      <td>[dear intp,   i enjoyed our conversation the o...</td>\n",
       "    </tr>\n",
       "    <tr>\n",
       "      <th>4</th>\n",
       "      <td>ENTJ</td>\n",
       "      <td>'You're fired.|||That's another silly misconce...</td>\n",
       "      <td>You're fired.|||That's another silly misconcep...</td>\n",
       "      <td>[You're fired., That's another silly misconcep...</td>\n",
       "      <td>[you're fired., that's another silly misconcep...</td>\n",
       "      <td>6</td>\n",
       "      <td>0.12</td>\n",
       "      <td>[you're fired., that's another silly misconcep...</td>\n",
       "      <td>[you are fired., that is another silly misconc...</td>\n",
       "    </tr>\n",
       "  </tbody>\n",
       "</table>\n",
       "</div>"
      ],
      "text/plain": [
       "   type                                              posts  \\\n",
       "0  INFJ  'http://www.youtube.com/watch?v=qsXHcwe3krw|||...   \n",
       "1  ENTP  'I'm finding the lack of me in these posts ver...   \n",
       "2  INTP  'Good one  _____   https://www.youtube.com/wat...   \n",
       "3  INTJ  'Dear INTP,   I enjoyed our conversation the o...   \n",
       "4  ENTJ  'You're fired.|||That's another silly misconce...   \n",
       "\n",
       "                             posts_processed_dequote  \\\n",
       "0  http://www.youtube.com/watch?v=qsXHcwe3krw|||h...   \n",
       "1  I'm finding the lack of me in these posts very...   \n",
       "2  Good one  _____   https://www.youtube.com/watc...   \n",
       "3  Dear INTP,   I enjoyed our conversation the ot...   \n",
       "4  You're fired.|||That's another silly misconcep...   \n",
       "\n",
       "                       posts_processed_dequote_split  \\\n",
       "0  [http://www.youtube.com/watch?v=qsXHcwe3krw, h...   \n",
       "1  [I'm finding the lack of me in these posts ver...   \n",
       "2  [Good one  _____   https://www.youtube.com/wat...   \n",
       "3  [Dear INTP,   I enjoyed our conversation the o...   \n",
       "4  [You're fired., That's another silly misconcep...   \n",
       "\n",
       "             posts_processed_dequote_split_lowercase  links_in_posts  \\\n",
       "0  [http://www.youtube.com/watch?v=qsxhcwe3krw, h...              24   \n",
       "1  [i'm finding the lack of me in these posts ver...              10   \n",
       "2  [good one  _____   https://www.youtube.com/wat...               5   \n",
       "3  [dear intp,   i enjoyed our conversation the o...               2   \n",
       "4  [you're fired., that's another silly misconcep...               6   \n",
       "\n",
       "   avg_link_per_post posts_processed_dequote_split_lowercase_linksRemoved  \\\n",
       "0               0.48  [, , enfp and intj moments    sportscenter not...     \n",
       "1               0.20  [i'm finding the lack of me in these posts ver...     \n",
       "2               0.10  [good one  _____   , of course, to which i say...     \n",
       "3               0.04  [dear intp,   i enjoyed our conversation the o...     \n",
       "4               0.12  [you're fired., that's another silly misconcep...     \n",
       "\n",
       "  posts_processed_dequote_split_lowercase_linksRemoved_expandedContractions  \n",
       "0  [, , enfp and intj moments    sportscenter not...                         \n",
       "1  [i am finding the lack of me in these posts ve...                         \n",
       "2  [good one  _____   , of course, to which i say...                         \n",
       "3  [dear intp,   i enjoyed our conversation the o...                         \n",
       "4  [you are fired., that is another silly misconc...                         "
      ]
     },
     "execution_count": 12,
     "metadata": {},
     "output_type": "execute_result"
    }
   ],
   "source": [
    "# Dictionary of English Contractions\n",
    "contractions_dict = { \"ain't\": \"are not\",\"'s\":\" is\",\"aren't\": \"are not\",\n",
    "                     \"can't\": \"cannot\",\"can't've\": \"cannot have\",\n",
    "                     \"'cause\": \"because\",\"could've\": \"could have\",\"couldn't\": \"could not\",\n",
    "                     \"couldn't've\": \"could not have\", \"didn't\": \"did not\",\"doesn't\": \"does not\",\n",
    "                     \"don't\": \"do not\",\"hadn't\": \"had not\",\"hadn't've\": \"had not have\",\n",
    "                     \"hasn't\": \"has not\",\"haven't\": \"have not\",\"he'd\": \"he would\",\n",
    "                     \"he'd've\": \"he would have\",\"he'll\": \"he will\", \"he'll've\": \"he will have\",\n",
    "                     \"how'd\": \"how did\",\"how'd'y\": \"how do you\",\"how'll\": \"how will\",\n",
    "                     \"i'd\": \"i would\", \"i'd've\": \"i would have\",\"i'll\": \"i will\",\n",
    "                     \"i'll've\": \"i will have\",\"i'm\": \"i am\",\"i've\": \"i have\", \"isn't\": \"is not\",\n",
    "                     \"it'd\": \"it would\",\"it'd've\": \"it would have\",\"it'll\": \"it will\",\n",
    "                     \"it'll've\": \"it will have\", \"let's\": \"let us\",\"ma'am\": \"madam\",\n",
    "                     \"mayn't\": \"may not\",\"might've\": \"might have\",\"mightn't\": \"might not\",\n",
    "                     \"mightn't've\": \"might not have\",\"must've\": \"must have\",\"mustn't\": \"must not\",\n",
    "                     \"mustn't've\": \"must not have\", \"needn't\": \"need not\",\n",
    "                     \"needn't've\": \"need not have\",\"o'clock\": \"of the clock\",\"oughtn't\": \"ought not\",\n",
    "                     \"oughtn't've\": \"ought not have\",\"shan't\": \"shall not\",\"sha'n't\": \"shall not\",\n",
    "                     \"shan't've\": \"shall not have\",\"she'd\": \"she would\",\"she'd've\": \"she would have\",\n",
    "                     \"she'll\": \"she will\", \"she'll've\": \"she will have\",\"should've\": \"should have\",\n",
    "                     \"shouldn't\": \"should not\", \"shouldn't've\": \"should not have\",\"so've\": \"so have\",\n",
    "                     \"that'd\": \"that would\",\"that'd've\": \"that would have\", \"there'd\": \"there would\",\n",
    "                     \"there'd've\": \"there would have\", \"they'd\": \"they would\",\n",
    "                     \"they'd've\": \"they would have\",\"they'll\": \"they will\",\n",
    "                     \"they'll've\": \"they will have\", \"they're\": \"they are\",\"they've\": \"they have\",\n",
    "                     \"to've\": \"to have\",\"wasn't\": \"was not\",\"we'd\": \"we would\",\n",
    "                     \"we'd've\": \"we would have\",\"we'll\": \"we will\",\"we'll've\": \"we will have\",\n",
    "                     \"we're\": \"we are\",\"we've\": \"we have\", \"weren't\": \"were not\",\"what'll\": \"what will\",\n",
    "                     \"what'll've\": \"what will have\",\"what're\": \"what are\", \"what've\": \"what have\",\n",
    "                     \"when've\": \"when have\",\"where'd\": \"where did\", \"where've\": \"where have\",\n",
    "                     \"who'll\": \"who will\",\"who'll've\": \"who will have\",\"who've\": \"who have\",\n",
    "                     \"why've\": \"why have\",\"will've\": \"will have\",\"won't\": \"will not\",\n",
    "                     \"won't've\": \"will not have\", \"would've\": \"would have\",\"wouldn't\": \"would not\",\n",
    "                     \"wouldn't've\": \"would not have\",\"y'all\": \"you all\", \"y'all'd\": \"you all would\",\n",
    "                     \"y'all'd've\": \"you all would have\",\"y'all're\": \"you all are\",\n",
    "                     \"y'all've\": \"you all have\", \"you'd\": \"you would\",\"you'd've\": \"you would have\",\n",
    "                     \"you'll\": \"you will\",\"you'll've\": \"you will have\", \"you're\": \"you are\",\n",
    "                     \"you've\": \"you have\"}\n",
    "\n",
    "\n",
    "\n",
    "# Regular expression for finding contractions\n",
    "contractions_re=re.compile('(%s)' % '|'.join(contractions_dict.keys()))\n",
    "\n",
    "# Function for expanding contractions\n",
    "def expand_contractions(text,contractions_dict=contractions_dict):\n",
    "  def replace(match):\n",
    "    return contractions_dict[match.group(0)]\n",
    "  return contractions_re.sub(replace, text)\n",
    "\n",
    "# Expanding Contractions\n",
    "#df['posts_processed_dequote_split_lowercase_linksRemoved_expandedContractions']=df['posts_processed_dequote_split_lowercase_linksRemoved'].apply(lambda x : expand_contractions(x))\n",
    "df['posts_processed_dequote_split_lowercase_linksRemoved_expandedContractions']=df['posts_processed_dequote_split_lowercase_linksRemoved'].apply(lambda posts : list(map(lambda post : expand_contractions(post), posts)))\n",
    "print('Abkürzungen entfernen')\n",
    "print('Before')\n",
    "print(df.at[1, 'posts_processed_dequote_split_lowercase_linksRemoved'])\n",
    "print('After')\n",
    "print(df.at[1, 'posts_processed_dequote_split_lowercase_linksRemoved_expandedContractions'])\n",
    "df.head(5)"
   ]
  },
  {
   "cell_type": "code",
   "execution_count": 20,
   "metadata": {},
   "outputs": [
    {
     "name": "stdout",
     "output_type": "stream",
     "text": [
      "Count Exclamation and Question Marks\n"
     ]
    },
    {
     "data": {
      "text/html": [
       "<div>\n",
       "<style scoped>\n",
       "    .dataframe tbody tr th:only-of-type {\n",
       "        vertical-align: middle;\n",
       "    }\n",
       "\n",
       "    .dataframe tbody tr th {\n",
       "        vertical-align: top;\n",
       "    }\n",
       "\n",
       "    .dataframe thead th {\n",
       "        text-align: right;\n",
       "    }\n",
       "</style>\n",
       "<table border=\"1\" class=\"dataframe\">\n",
       "  <thead>\n",
       "    <tr style=\"text-align: right;\">\n",
       "      <th></th>\n",
       "      <th>type</th>\n",
       "      <th>posts</th>\n",
       "      <th>posts_processed_dequote</th>\n",
       "      <th>posts_processed_dequote_split</th>\n",
       "      <th>posts_processed_dequote_split_lowercase</th>\n",
       "      <th>links_in_posts</th>\n",
       "      <th>avg_link_per_post</th>\n",
       "      <th>posts_processed_dequote_split_lowercase_linksRemoved</th>\n",
       "      <th>posts_processed_dequote_split_lowercase_linksRemoved_expandedContractions</th>\n",
       "      <th>exclamations_in_posts</th>\n",
       "      <th>questions_in_posts</th>\n",
       "    </tr>\n",
       "  </thead>\n",
       "  <tbody>\n",
       "    <tr>\n",
       "      <th>0</th>\n",
       "      <td>INFJ</td>\n",
       "      <td>'http://www.youtube.com/watch?v=qsXHcwe3krw|||...</td>\n",
       "      <td>http://www.youtube.com/watch?v=qsXHcwe3krw|||h...</td>\n",
       "      <td>[http://www.youtube.com/watch?v=qsXHcwe3krw, h...</td>\n",
       "      <td>[http://www.youtube.com/watch?v=qsxhcwe3krw, h...</td>\n",
       "      <td>24</td>\n",
       "      <td>0.48</td>\n",
       "      <td>[, , enfp and intj moments    sportscenter not...</td>\n",
       "      <td>[, , enfp and intj moments    sportscenter not...</td>\n",
       "      <td>3</td>\n",
       "      <td>2</td>\n",
       "    </tr>\n",
       "    <tr>\n",
       "      <th>1</th>\n",
       "      <td>ENTP</td>\n",
       "      <td>'I'm finding the lack of me in these posts ver...</td>\n",
       "      <td>I'm finding the lack of me in these posts very...</td>\n",
       "      <td>[I'm finding the lack of me in these posts ver...</td>\n",
       "      <td>[i'm finding the lack of me in these posts ver...</td>\n",
       "      <td>10</td>\n",
       "      <td>0.20</td>\n",
       "      <td>[i'm finding the lack of me in these posts ver...</td>\n",
       "      <td>[i am finding the lack of me in these posts ve...</td>\n",
       "      <td>0</td>\n",
       "      <td>4</td>\n",
       "    </tr>\n",
       "    <tr>\n",
       "      <th>2</th>\n",
       "      <td>INTP</td>\n",
       "      <td>'Good one  _____   https://www.youtube.com/wat...</td>\n",
       "      <td>Good one  _____   https://www.youtube.com/watc...</td>\n",
       "      <td>[Good one  _____   https://www.youtube.com/wat...</td>\n",
       "      <td>[good one  _____   https://www.youtube.com/wat...</td>\n",
       "      <td>5</td>\n",
       "      <td>0.10</td>\n",
       "      <td>[good one  _____   , of course, to which i say...</td>\n",
       "      <td>[good one  _____   , of course, to which i say...</td>\n",
       "      <td>4</td>\n",
       "      <td>9</td>\n",
       "    </tr>\n",
       "    <tr>\n",
       "      <th>3</th>\n",
       "      <td>INTJ</td>\n",
       "      <td>'Dear INTP,   I enjoyed our conversation the o...</td>\n",
       "      <td>Dear INTP,   I enjoyed our conversation the ot...</td>\n",
       "      <td>[Dear INTP,   I enjoyed our conversation the o...</td>\n",
       "      <td>[dear intp,   i enjoyed our conversation the o...</td>\n",
       "      <td>2</td>\n",
       "      <td>0.04</td>\n",
       "      <td>[dear intp,   i enjoyed our conversation the o...</td>\n",
       "      <td>[dear intp,   i enjoyed our conversation the o...</td>\n",
       "      <td>3</td>\n",
       "      <td>9</td>\n",
       "    </tr>\n",
       "    <tr>\n",
       "      <th>4</th>\n",
       "      <td>ENTJ</td>\n",
       "      <td>'You're fired.|||That's another silly misconce...</td>\n",
       "      <td>You're fired.|||That's another silly misconcep...</td>\n",
       "      <td>[You're fired., That's another silly misconcep...</td>\n",
       "      <td>[you're fired., that's another silly misconcep...</td>\n",
       "      <td>6</td>\n",
       "      <td>0.12</td>\n",
       "      <td>[you're fired., that's another silly misconcep...</td>\n",
       "      <td>[you are fired., that is another silly misconc...</td>\n",
       "      <td>1</td>\n",
       "      <td>8</td>\n",
       "    </tr>\n",
       "  </tbody>\n",
       "</table>\n",
       "</div>"
      ],
      "text/plain": [
       "   type                                              posts  \\\n",
       "0  INFJ  'http://www.youtube.com/watch?v=qsXHcwe3krw|||...   \n",
       "1  ENTP  'I'm finding the lack of me in these posts ver...   \n",
       "2  INTP  'Good one  _____   https://www.youtube.com/wat...   \n",
       "3  INTJ  'Dear INTP,   I enjoyed our conversation the o...   \n",
       "4  ENTJ  'You're fired.|||That's another silly misconce...   \n",
       "\n",
       "                             posts_processed_dequote  \\\n",
       "0  http://www.youtube.com/watch?v=qsXHcwe3krw|||h...   \n",
       "1  I'm finding the lack of me in these posts very...   \n",
       "2  Good one  _____   https://www.youtube.com/watc...   \n",
       "3  Dear INTP,   I enjoyed our conversation the ot...   \n",
       "4  You're fired.|||That's another silly misconcep...   \n",
       "\n",
       "                       posts_processed_dequote_split  \\\n",
       "0  [http://www.youtube.com/watch?v=qsXHcwe3krw, h...   \n",
       "1  [I'm finding the lack of me in these posts ver...   \n",
       "2  [Good one  _____   https://www.youtube.com/wat...   \n",
       "3  [Dear INTP,   I enjoyed our conversation the o...   \n",
       "4  [You're fired., That's another silly misconcep...   \n",
       "\n",
       "             posts_processed_dequote_split_lowercase  links_in_posts  \\\n",
       "0  [http://www.youtube.com/watch?v=qsxhcwe3krw, h...              24   \n",
       "1  [i'm finding the lack of me in these posts ver...              10   \n",
       "2  [good one  _____   https://www.youtube.com/wat...               5   \n",
       "3  [dear intp,   i enjoyed our conversation the o...               2   \n",
       "4  [you're fired., that's another silly misconcep...               6   \n",
       "\n",
       "   avg_link_per_post posts_processed_dequote_split_lowercase_linksRemoved  \\\n",
       "0               0.48  [, , enfp and intj moments    sportscenter not...     \n",
       "1               0.20  [i'm finding the lack of me in these posts ver...     \n",
       "2               0.10  [good one  _____   , of course, to which i say...     \n",
       "3               0.04  [dear intp,   i enjoyed our conversation the o...     \n",
       "4               0.12  [you're fired., that's another silly misconcep...     \n",
       "\n",
       "  posts_processed_dequote_split_lowercase_linksRemoved_expandedContractions  \\\n",
       "0  [, , enfp and intj moments    sportscenter not...                          \n",
       "1  [i am finding the lack of me in these posts ve...                          \n",
       "2  [good one  _____   , of course, to which i say...                          \n",
       "3  [dear intp,   i enjoyed our conversation the o...                          \n",
       "4  [you are fired., that is another silly misconc...                          \n",
       "\n",
       "   exclamations_in_posts  questions_in_posts  \n",
       "0                      3                   2  \n",
       "1                      0                   4  \n",
       "2                      4                   9  \n",
       "3                      3                   9  \n",
       "4                      1                   8  "
      ]
     },
     "execution_count": 20,
     "metadata": {},
     "output_type": "execute_result"
    }
   ],
   "source": [
    "# Ausrufezeichen und Fragezeichen zählen, bevor sie entfernt werden\n",
    "\n",
    "def count_punctuation_in_list (list, punct):\n",
    "    counter = 0\n",
    "    for e in list:\n",
    "        counter += e.count(punct)\n",
    "    return counter\n",
    "\n",
    "df['exclamations_in_posts'] = df['posts_processed_dequote_split_lowercase_linksRemoved_expandedContractions'].apply(lambda list : count_punctuation_in_list(list, '!'))\n",
    "df['questions_in_posts'] = df['posts_processed_dequote_split_lowercase_linksRemoved_expandedContractions'].apply(lambda list : count_punctuation_in_list(list, '?'))\n",
    "print('Count Exclamation and Question Marks')\n",
    "df.head(5)"
   ]
  },
  {
   "cell_type": "code",
   "execution_count": 33,
   "metadata": {},
   "outputs": [
    {
     "data": {
      "text/plain": [
       "Text(0, 0.5, 'Question Marks')"
      ]
     },
     "execution_count": 33,
     "metadata": {},
     "output_type": "execute_result"
    },
    {
     "data": {
      "image/png": "[encoded data removed]",
      "text/plain": [
       "<Figure size 1080x720 with 2 Axes>"
      ]
     },
     "metadata": {
      "needs_background": "light"
     },
     "output_type": "display_data"
    }
   ],
   "source": [
    "# Benutzung von Exclamation und Question Marks visualisieren\n",
    "fig, ax1 = plt.subplots(figsize=(15,10))\n",
    "sns.stripplot(x='type', y = 'exclamations_in_posts', s = 4, color=\"#77b0ff\", data = df, ax=ax1)\n",
    "ax1.set_ylabel('Exclamation Marks', color=\"#77b0ff\")\n",
    "ax2 = ax1.twinx()\n",
    "sns.stripplot(x='type', y = 'questions_in_posts', s = 4, color=\"#ff7777\", data = df, ax=ax2)\n",
    "ax2.set_ylabel('Question Marks', color=\"#ff7777\")"
   ]
  },
  {
   "cell_type": "code",
   "execution_count": null,
   "metadata": {
    "jupyter": {
     "outputs_hidden": false
    },
    "pycharm": {
     "name": "#%%\n"
    }
   },
   "outputs": [],
   "source": [
    "#Satzzeichen mit Leerzeichen ersetzen (muss nach den contractions passieren, da diese ebenfalls entfernt werden )\n",
    "df['posts_processed_dequote_split_lowercase_linksRemoved_expandedContractions_punctuationRemoved']=df['posts_processed_dequote_split_lowercase_linksRemoved_expandedContractions'].apply(lambda posts : list(map(lambda post: re.sub('[%s]' % re.escape(string.punctuation), ' ', post), posts)))\n",
    "print('Satzzeichen entfernt')\n",
    "print('Before')\n",
    "print(df.at[1, 'posts_processed_dequote_split_lowercase_linksRemoved_expandedContractions'])\n",
    "print('After')\n",
    "print(df.at[1, 'posts_processed_dequote_split_lowercase_linksRemoved_expandedContractions_punctuationRemoved'])\n",
    "df.head(5)"
   ]
  },
  {
   "cell_type": "code",
   "execution_count": null,
   "metadata": {
    "jupyter": {
     "outputs_hidden": false
    },
    "pycharm": {
     "name": "#%%\n"
    }
   },
   "outputs": [],
   "source": [
    "#Caros Abkürzung testen\n",
    "#df2 = pd.DataFrame()\n",
    "#df2['posts'] = [['hallo iiii looooveee youuuu soo mutchhh','hahahah', 'loooovee']]\n",
    "\n",
    "#df2['posts_prosessed'] = df2['posts'].apply(lambda posts : list(map(lambda post : ''.join(''.join(s)[:2] for _, s in itertools.groupby(post)), posts)))\n",
    "#df2.head()\n",
    "\n",
    "df['posts_processed_dequote_split_lowercase_linksRemoved_expandedContractions_punctuationRemoved_multipleLettersSquashed']=df['posts_processed_dequote_split_lowercase_linksRemoved_expandedContractions_punctuationRemoved'].apply(lambda posts : list(map(lambda post : ''.join(''.join(s)[:2] for _, s in itertools.groupby(post)), posts)))\n",
    "print('Mehr als 2 Buchstaben hinereinander zusammengefasst')\n",
    "df.head()"
   ]
  },
  {
   "cell_type": "code",
   "execution_count": null,
   "metadata": {
    "id": "q_eg1nC3dSGF"
   },
   "outputs": [],
   "source": [
    "#Zahlen und Wörter mit Zahlen entfernen\n",
    "df['posts_processed_dequote_split_lowercase_linksRemoved_expandedContractions_punctuationRemoved_multipleLettersSquashed_removedNumbers']=df['posts_processed_dequote_split_lowercase_linksRemoved_expandedContractions_punctuationRemoved_multipleLettersSquashed'].apply(lambda posts : list(map(lambda post: re.sub('\\w*\\d\\w*','', post), posts)))\n",
    "print('Zahlen und Wörter mit Zahlen entfernt')\n",
    "print('Before')\n",
    "print(df.at[1, 'posts_processed_dequote_split_lowercase_linksRemoved_expandedContractions_punctuationRemoved_multipleLettersSquashed'])\n",
    "print('After')\n",
    "print(df.at[1, 'posts_processed_dequote_split_lowercase_linksRemoved_expandedContractions_punctuationRemoved_multipleLettersSquashed_removedNumbers'])\n",
    "df.head(5)"
   ]
  },
  {
   "cell_type": "code",
   "execution_count": null,
   "metadata": {
    "jupyter": {
     "outputs_hidden": false
    },
    "pycharm": {
     "name": "#%%\n"
    }
   },
   "outputs": [],
   "source": [
    "#MBTI Strings entfernen\n",
    "mbti_strings = ['INFJ', 'ENTP', 'INTP', 'INTJ', 'ENTJ', 'ENFJ', 'INFP', 'ENFP',\n",
    "       'ISFP', 'ISTP', 'ISFJ', 'ISTJ', 'ESTP', 'ESFP', 'ESTJ', 'ESFJ']\n",
    "mbti_strings = [e.lower() for e in mbti_strings]\n",
    "\n",
    "def remove_mbti_strings (post):\n",
    "    for e in mbti_strings:\n",
    "        post = post.replace(e,'')\n",
    "    return post\n",
    "\n",
    "df['posts_processed_dequote_split_lowercase_linksRemoved_expandedContractions_punctuationRemoved_multipleLettersSquashed_removedNumbers_removedMbtiStrings']=df['posts_processed_dequote_split_lowercase_linksRemoved_expandedContractions_punctuationRemoved_multipleLettersSquashed_removedNumbers'].apply(lambda posts : list(map(remove_mbti_strings, posts)))\n",
    "print('MBTI Strings entfernt')\n",
    "print('Before')\n",
    "print(df.at[3, 'posts_processed_dequote_split_lowercase_linksRemoved_expandedContractions_punctuationRemoved_multipleLettersSquashed_removedNumbers'])\n",
    "print('After')\n",
    "print(df.at[3, 'posts_processed_dequote_split_lowercase_linksRemoved_expandedContractions_punctuationRemoved_multipleLettersSquashed_removedNumbers_removedMbtiStrings'])\n",
    "df.head(5)"
   ]
  },
  {
   "cell_type": "code",
   "execution_count": null,
   "metadata": {
    "id": "04G8TJ8pdTcX"
   },
   "outputs": [],
   "source": [
    "# Mehrere Leerzeichen hintereinander mit einem Leerzeichen ersetzen.\n",
    "df['posts_processed_dequote_split_lowercase_linksRemoved_expandedContractions_punctuationRemoved_multipleLettersSquashed_removedNumbers_removedMbtiStrings_removedSpaces']=df['posts_processed_dequote_split_lowercase_linksRemoved_expandedContractions_punctuationRemoved_multipleLettersSquashed_removedNumbers_removedMbtiStrings'].apply(lambda posts : list(map(lambda post: re.sub(' +',' ',post), posts)))\n",
    "print('Leerzeichen zusammengefasst')\n",
    "print('Before')\n",
    "print(df.at[1, 'posts_processed_dequote_split_lowercase_linksRemoved_expandedContractions_punctuationRemoved_multipleLettersSquashed_removedNumbers_removedMbtiStrings'])\n",
    "print('After')\n",
    "print(df.at[1, 'posts_processed_dequote_split_lowercase_linksRemoved_expandedContractions_punctuationRemoved_multipleLettersSquashed_removedNumbers_removedMbtiStrings_removedSpaces'])\n",
    "df.head(5)"
   ]
  },
  {
   "cell_type": "code",
   "execution_count": null,
   "metadata": {
    "jupyter": {
     "outputs_hidden": false
    },
    "pycharm": {
     "name": "#%%\n"
    }
   },
   "outputs": [],
   "source": [
    "#Leere Listenelemente Löschen\n",
    "df['posts_processed_dequote_split_lowercase_linksRemoved_expandedContractions_punctuationRemoved_multipleLettersSquashed_removedNumbers_removedMbtiStrings_removedSpaces_removedEmptyPosts']=df['posts_processed_dequote_split_lowercase_linksRemoved_expandedContractions_punctuationRemoved_multipleLettersSquashed_removedNumbers_removedMbtiStrings_removedSpaces'].apply(lambda posts : list(filter(None, posts)))\n",
    "print('Leere Listenelemente gelöscht')\n",
    "print('Before')\n",
    "print(df.at[0, 'posts_processed_dequote_split_lowercase_linksRemoved_expandedContractions_punctuationRemoved_multipleLettersSquashed_removedNumbers_removedMbtiStrings_removedSpaces'])\n",
    "print('After')\n",
    "print(df.at[0, 'posts_processed_dequote_split_lowercase_linksRemoved_expandedContractions_punctuationRemoved_multipleLettersSquashed_removedNumbers_removedMbtiStrings_removedSpaces_removedEmptyPosts'])\n",
    "df.head(5)"
   ]
  },
  {
   "cell_type": "markdown",
   "metadata": {
    "pycharm": {
     "name": "#%% md\n"
    }
   },
   "source": [
    "## Feature Extraktion\n",
    "**Achtung** : Ab hier hat die Liste an Posts eine unterschiedliche Anzahl an Elementen"
   ]
  },
  {
   "cell_type": "code",
   "execution_count": null,
   "metadata": {
    "jupyter": {
     "outputs_hidden": false
    },
    "pycharm": {
     "name": "#%%\n"
    }
   },
   "outputs": [],
   "source": [
    "#Neuen Dataframe erstellen, mit dem Weitergearbeitet werden kann\n",
    "selected_columns = df[['type','posts_processed_dequote_split_lowercase_linksRemoved_expandedContractions_punctuationRemoved_multipleLettersSquashed_removedNumbers_removedMbtiStrings_removedSpaces_removedEmptyPosts','links_in_posts','avg_link_per_post']]\n",
    "df_processed = selected_columns.copy()\n",
    "#Umbenennen\n",
    "df_processed = df_processed.rename(columns={'posts_processed_dequote_split_lowercase_linksRemoved_expandedContractions_punctuationRemoved_multipleLettersSquashed_removedNumbers_removedMbtiStrings_removedSpaces_removedEmptyPosts': 'posts'})\n",
    "df_processed['post_amount'] = df_processed['posts'].apply(lambda posts : len(posts))\n",
    "df_processed.head()"
   ]
  },
  {
   "cell_type": "code",
   "execution_count": null,
   "metadata": {
    "jupyter": {
     "outputs_hidden": false
    },
    "pycharm": {
     "name": "#%%\n"
    }
   },
   "outputs": [],
   "source": [
    "#Wörter per Post\n",
    "\n",
    "df_processed['words_per_post'] = df_processed['posts'].apply(lambda posts : list(map(lambda post: len(post.split()), posts)))\n",
    "df_processed.head(5)"
   ]
  },
  {
   "cell_type": "code",
   "execution_count": null,
   "metadata": {
    "id": "tdHzlvpZdXRg",
    "pycharm": {
     "name": "#%%\n"
    }
   },
   "outputs": [],
   "source": [
    "# Durchschnitt der Wörter pro Post\n",
    "df_processed['avg_words_of_posts'] = df_processed['words_per_post'].apply(lambda word_list : np.mean(word_list))\n",
    "print('Durchschnittl. words per Post')\n",
    "df_processed.head(5)"
   ]
  },
  {
   "cell_type": "code",
   "execution_count": null,
   "metadata": {
    "jupyter": {
     "outputs_hidden": false
    },
    "pycharm": {
     "name": "#%%\n"
    }
   },
   "outputs": [],
   "source": [
    "plt.figure(figsize=(15,10))\n",
    "sns.stripplot(x = \"type\", y = \"avg_words_of_posts\", data=df_processed)"
   ]
  },
  {
   "cell_type": "code",
   "execution_count": null,
   "metadata": {
    "jupyter": {
     "outputs_hidden": false
    },
    "pycharm": {
     "name": "#%%\n"
    }
   },
   "outputs": [],
   "source": [
    "#Buchstaben pro Posts\n",
    "df_processed['characters_per_post'] = df_processed['posts'].apply(lambda posts : list(map(lambda post: len(post) - post.count(' '), posts)))\n",
    "print('Buchstaben pro Post berechnen')\n",
    "print(df_processed.at[0,'posts'])\n",
    "df_processed.head(5)"
   ]
  },
  {
   "cell_type": "code",
   "execution_count": null,
   "metadata": {
    "jupyter": {
     "outputs_hidden": false
    },
    "pycharm": {
     "name": "#%%\n"
    }
   },
   "outputs": [],
   "source": [
    "# Durchschnitt der Buchstaben pro Posts\n",
    "df_processed['avg_characters_of_posts'] = df_processed['characters_per_post'].apply(lambda word_list : np.mean(word_list))\n",
    "print('Durchschnittl. Buchstaben per Post')\n",
    "df_processed.head(5)"
   ]
  },
  {
   "cell_type": "code",
   "execution_count": null,
   "metadata": {
    "jupyter": {
     "outputs_hidden": false
    },
    "pycharm": {
     "name": "#%%\n"
    }
   },
   "outputs": [],
   "source": [
    "plt.figure(figsize=(15,10))\n",
    "sns.stripplot(x = \"type\", y = \"avg_characters_of_posts\", data=df_processed)"
   ]
  },
  {
   "cell_type": "code",
   "execution_count": null,
   "metadata": {},
   "outputs": [],
   "source": [
    "# Wortwolken\n",
    "from functools import reduce\n",
    "import wordcloud as wc\n",
    "\n",
    "def splitAndCombine(l):\n",
    "  return reduce(lambda x,y:x+y,[x.split() for x in l])\n",
    "\n",
    "def countFrequency(l):\n",
    "  freq = {}\n",
    "  for word in l:\n",
    "    if (word in freq):\n",
    "      freq[word] += 1\n",
    "    else:\n",
    "      freq[word] = 1\n",
    "  \n",
    "  return freq\n",
    "\n",
    "typeWithPostsDict = {k:v for k,v in zip(df_processed['type'], df_processed['posts'])}\n",
    "\n",
    "typeWithWordsDict = {t:splitAndCombine(pL) for t,pL in typeWithPostsDict.items()}\n",
    "\n",
    "typeWithWordFrequencyDict = {t:countFrequency(wL) for t,wL in typeWithWordsDict.items()}\n",
    "\n",
    "typeWithWordClouds = {t:wc.WordCloud(width=500, height=500, max_font_size=64).fit_words(wF) for t,wF in typeWithWordFrequencyDict.items()}\n",
    "\n",
    "for t,wC in typeWithWordClouds.items():\n",
    "  plt.figure()\n",
    "  plt.title(t)\n",
    "  plt.imshow(wC, interpolation='bilinear')\n",
    "  plt.axis(\"off\")\n",
    "  plt.show"
   ]
  }
 ],
 "metadata": {
  "colab": {
   "collapsed_sections": [],
   "name": "MBTI.ipynb",
   "private_outputs": true,
   "provenance": []
  },
  "kernelspec": {
   "display_name": "Python 3",
   "language": "python",
   "name": "python3"
  },
  "language_info": {
   "codemirror_mode": {
    "name": "ipython",
    "version": 3
   },
   "file_extension": ".py",
   "mimetype": "text/x-python",
   "name": "python",
   "nbconvert_exporter": "python",
   "pygments_lexer": "ipython3",
   "version": "3.8.5"
  }
 },
 "nbformat": 4,
 "nbformat_minor": 4
}
